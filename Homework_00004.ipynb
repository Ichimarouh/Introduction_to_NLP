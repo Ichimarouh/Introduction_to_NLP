{
 "cells": [
  {
   "cell_type": "markdown",
   "metadata": {
    "id": "_Ms9FMOHD53y"
   },
   "source": [
    "## Введение в обработку естественного языка."
   ]
  },
  {
   "cell_type": "markdown",
   "metadata": {
    "id": "KrO9kdpXEApQ"
   },
   "source": [
    "### Урок 4. Тематическое моделирование. EM-алгоритм."
   ]
  },
  {
   "cell_type": "markdown",
   "metadata": {
    "id": "E-k3OYCzEETx"
   },
   "source": [
    "Задача тематическое моделирование\n",
    "\n",
    "продолжаем исследование датасета с твитами\n",
    "\n",
    "Скачиваем датасет (источник): положительные, отрицательные.\n",
    "\n",
    "или можно через ноутбук\n",
    "\n",
    "!wget https://www.dropbox.com/s/fnpq3z4bcnoktiv/positive.csv\n",
    "!wget https://www.dropbox.com/s/r6u59ljhhjdg6j0/negative.csv\n",
    "\n",
    "как альтернатива можно скачать данные из Роспотребнадзора\n",
    "https://zpp.rospotrebnadzor.ru/Forum/Appeals\n",
    "для этого берём ноутбук parse_rospotrebnadzor.ipynb\n",
    "устанавливаем количество скачанных страниц больше не 50-сят хотябы 500 и для анализа берём только вопросы так как ответы есть не всегда\n",
    "\n",
    "что надо сделать\n",
    "1. объединить в одну выборку (это только для твитов), для роспотребнадзора сформировать датасет из вопросов\n",
    "2. провести исследование и выявить тематики о которых говорят в твитах (для твитов), а для роспотребнадзора так же выявить тематики о которых люди пишут проанализировать\n",
    "3. сделать визуализацию кластеров тематик\n",
    "4. проинтерпритировать получившиеся тематики"
   ]
  },
  {
   "cell_type": "code",
   "execution_count": 1,
   "metadata": {
    "colab": {
     "base_uri": "https://localhost:8080/",
     "height": 1000
    },
    "id": "Psah8metEGkR",
    "outputId": "1e3ab21d-6bf4-47c8-8d48-a72a1391ff20"
   },
   "outputs": [
    {
     "name": "stdout",
     "output_type": "stream",
     "text": [
      "Looking in indexes: https://pypi.org/simple, https://us-python.pkg.dev/colab-wheels/public/simple/\n",
      "Collecting apache_beam\n",
      "  Downloading apache_beam-2.41.0-cp37-cp37m-manylinux2010_x86_64.whl (10.9 MB)\n",
      "\u001b[K     |████████████████████████████████| 10.9 MB 25.5 MB/s \n",
      "\u001b[?25hRequirement already satisfied: pyarrow<8.0.0,>=0.15.1 in /usr/local/lib/python3.7/dist-packages (from apache_beam) (6.0.1)\n",
      "Collecting requests<3.0.0,>=2.24.0\n",
      "  Downloading requests-2.28.1-py3-none-any.whl (62 kB)\n",
      "\u001b[K     |████████████████████████████████| 62 kB 1.6 MB/s \n",
      "\u001b[?25hCollecting proto-plus<2,>=1.7.1\n",
      "  Downloading proto_plus-1.22.1-py3-none-any.whl (47 kB)\n",
      "\u001b[K     |████████████████████████████████| 47 kB 4.6 MB/s \n",
      "\u001b[?25hRequirement already satisfied: pytz>=2018.3 in /usr/local/lib/python3.7/dist-packages (from apache_beam) (2022.2.1)\n",
      "Requirement already satisfied: typing-extensions>=3.7.0 in /usr/local/lib/python3.7/dist-packages (from apache_beam) (4.1.1)\n",
      "Collecting pymongo<4.0.0,>=3.8.0\n",
      "  Downloading pymongo-3.12.3-cp37-cp37m-manylinux_2_17_x86_64.manylinux2014_x86_64.whl (508 kB)\n",
      "\u001b[K     |████████████████████████████████| 508 kB 58.2 MB/s \n",
      "\u001b[?25hCollecting orjson<4.0\n",
      "  Downloading orjson-3.8.0-cp37-cp37m-manylinux_2_17_x86_64.manylinux2014_x86_64.whl (270 kB)\n",
      "\u001b[K     |████████████████████████████████| 270 kB 55.2 MB/s \n",
      "\u001b[?25hRequirement already satisfied: grpcio<2,>=1.33.1 in /usr/local/lib/python3.7/dist-packages (from apache_beam) (1.47.0)\n",
      "Requirement already satisfied: crcmod<2.0,>=1.7 in /usr/local/lib/python3.7/dist-packages (from apache_beam) (1.7)\n",
      "Collecting cloudpickle<3,>=2.1.0\n",
      "  Downloading cloudpickle-2.1.0-py3-none-any.whl (25 kB)\n",
      "Requirement already satisfied: httplib2<0.21.0,>=0.8 in /usr/local/lib/python3.7/dist-packages (from apache_beam) (0.17.4)\n",
      "Requirement already satisfied: numpy<1.23.0,>=1.14.3 in /usr/local/lib/python3.7/dist-packages (from apache_beam) (1.21.6)\n",
      "Requirement already satisfied: protobuf<4,>=3.12.2 in /usr/local/lib/python3.7/dist-packages (from apache_beam) (3.17.3)\n",
      "Requirement already satisfied: pydot<2,>=1.2.0 in /usr/local/lib/python3.7/dist-packages (from apache_beam) (1.3.0)\n",
      "Collecting hdfs<3.0.0,>=2.1.0\n",
      "  Downloading hdfs-2.7.0-py3-none-any.whl (34 kB)\n",
      "Collecting dill<0.3.2,>=0.3.1.1\n",
      "  Downloading dill-0.3.1.1.tar.gz (151 kB)\n",
      "\u001b[K     |████████████████████████████████| 151 kB 66.1 MB/s \n",
      "\u001b[?25hCollecting fastavro<2,>=0.23.6\n",
      "  Downloading fastavro-1.6.0-cp37-cp37m-manylinux_2_17_x86_64.manylinux2014_x86_64.whl (2.4 MB)\n",
      "\u001b[K     |████████████████████████████████| 2.4 MB 42.5 MB/s \n",
      "\u001b[?25hRequirement already satisfied: python-dateutil<3,>=2.8.0 in /usr/local/lib/python3.7/dist-packages (from apache_beam) (2.8.2)\n",
      "Requirement already satisfied: six>=1.5.2 in /usr/local/lib/python3.7/dist-packages (from grpcio<2,>=1.33.1->apache_beam) (1.15.0)\n",
      "Collecting docopt\n",
      "  Downloading docopt-0.6.2.tar.gz (25 kB)\n",
      "Collecting protobuf<4,>=3.12.2\n",
      "  Downloading protobuf-3.20.1-cp37-cp37m-manylinux_2_5_x86_64.manylinux1_x86_64.whl (1.0 MB)\n",
      "\u001b[K     |████████████████████████████████| 1.0 MB 61.1 MB/s \n",
      "\u001b[?25hRequirement already satisfied: pyparsing>=2.1.4 in /usr/local/lib/python3.7/dist-packages (from pydot<2,>=1.2.0->apache_beam) (3.0.9)\n",
      "Requirement already satisfied: urllib3<1.27,>=1.21.1 in /usr/local/lib/python3.7/dist-packages (from requests<3.0.0,>=2.24.0->apache_beam) (1.24.3)\n",
      "Requirement already satisfied: certifi>=2017.4.17 in /usr/local/lib/python3.7/dist-packages (from requests<3.0.0,>=2.24.0->apache_beam) (2022.6.15)\n",
      "Requirement already satisfied: charset-normalizer<3,>=2 in /usr/local/lib/python3.7/dist-packages (from requests<3.0.0,>=2.24.0->apache_beam) (2.1.1)\n",
      "Requirement already satisfied: idna<4,>=2.5 in /usr/local/lib/python3.7/dist-packages (from requests<3.0.0,>=2.24.0->apache_beam) (2.10)\n",
      "Building wheels for collected packages: dill, docopt\n",
      "  Building wheel for dill (setup.py) ... \u001b[?25l\u001b[?25hdone\n",
      "  Created wheel for dill: filename=dill-0.3.1.1-py3-none-any.whl size=78544 sha256=cdb37dcfb600ebb4506d066b06d5fb3dcf4449c2af09b39747de075ae02a1c00\n",
      "  Stored in directory: /root/.cache/pip/wheels/a4/61/fd/c57e374e580aa78a45ed78d5859b3a44436af17e22ca53284f\n",
      "  Building wheel for docopt (setup.py) ... \u001b[?25l\u001b[?25hdone\n",
      "  Created wheel for docopt: filename=docopt-0.6.2-py2.py3-none-any.whl size=13723 sha256=6887611eb1737a95c9db638a58b302a390e389a3a30627ae5cb51a2240fae5db\n",
      "  Stored in directory: /root/.cache/pip/wheels/72/b0/3f/1d95f96ff986c7dfffe46ce2be4062f38ebd04b506c77c81b9\n",
      "Successfully built dill docopt\n",
      "Installing collected packages: requests, protobuf, docopt, pymongo, proto-plus, orjson, hdfs, fastavro, dill, cloudpickle, apache-beam\n",
      "  Attempting uninstall: requests\n",
      "    Found existing installation: requests 2.23.0\n",
      "    Uninstalling requests-2.23.0:\n",
      "      Successfully uninstalled requests-2.23.0\n",
      "  Attempting uninstall: protobuf\n",
      "    Found existing installation: protobuf 3.17.3\n",
      "    Uninstalling protobuf-3.17.3:\n",
      "      Successfully uninstalled protobuf-3.17.3\n",
      "  Attempting uninstall: pymongo\n",
      "    Found existing installation: pymongo 4.2.0\n",
      "    Uninstalling pymongo-4.2.0:\n",
      "      Successfully uninstalled pymongo-4.2.0\n",
      "  Attempting uninstall: dill\n",
      "    Found existing installation: dill 0.3.5.1\n",
      "    Uninstalling dill-0.3.5.1:\n",
      "      Successfully uninstalled dill-0.3.5.1\n",
      "  Attempting uninstall: cloudpickle\n",
      "    Found existing installation: cloudpickle 1.5.0\n",
      "    Uninstalling cloudpickle-1.5.0:\n",
      "      Successfully uninstalled cloudpickle-1.5.0\n",
      "\u001b[31mERROR: pip's dependency resolver does not currently take into account all the packages that are installed. This behaviour is the source of the following dependency conflicts.\n",
      "tensorflow 2.8.2+zzzcolab20220719082949 requires protobuf<3.20,>=3.9.2, but you have protobuf 3.20.1 which is incompatible.\u001b[0m\n",
      "Successfully installed apache-beam-2.41.0 cloudpickle-2.1.0 dill-0.3.1.1 docopt-0.6.2 fastavro-1.6.0 hdfs-2.7.0 orjson-3.8.0 proto-plus-1.22.1 protobuf-3.20.1 pymongo-3.12.3 requests-2.28.1\n"
     ]
    },
    {
     "data": {
      "application/vnd.colab-display-data+json": {
       "pip_warning": {
        "packages": [
         "google"
        ]
       }
      }
     },
     "metadata": {},
     "output_type": "display_data"
    },
    {
     "name": "stdout",
     "output_type": "stream",
     "text": [
      "Looking in indexes: https://pypi.org/simple, https://us-python.pkg.dev/colab-wheels/public/simple/\n",
      "Collecting annoy\n",
      "  Downloading annoy-1.17.1.tar.gz (647 kB)\n",
      "\u001b[K     |████████████████████████████████| 647 kB 20.9 MB/s \n",
      "\u001b[?25hBuilding wheels for collected packages: annoy\n",
      "  Building wheel for annoy (setup.py) ... \u001b[?25l\u001b[?25hdone\n",
      "  Created wheel for annoy: filename=annoy-1.17.1-cp37-cp37m-linux_x86_64.whl size=395176 sha256=4f0957b363c4b8cab2019c70122a252b99a761dda7224e5460674a0a64c72d6d\n",
      "  Stored in directory: /root/.cache/pip/wheels/81/94/bf/92cb0e4fef8770fe9c6df0ba588fca30ab7c306b6048ae8a54\n",
      "Successfully built annoy\n",
      "Installing collected packages: annoy\n",
      "Successfully installed annoy-1.17.1\n",
      "Looking in indexes: https://pypi.org/simple, https://us-python.pkg.dev/colab-wheels/public/simple/\n",
      "Collecting pymorphy2\n",
      "  Downloading pymorphy2-0.9.1-py3-none-any.whl (55 kB)\n",
      "\u001b[K     |████████████████████████████████| 55 kB 3.1 MB/s \n",
      "\u001b[?25hRequirement already satisfied: docopt>=0.6 in /usr/local/lib/python3.7/dist-packages (from pymorphy2) (0.6.2)\n",
      "Collecting pymorphy2-dicts-ru<3.0,>=2.4\n",
      "  Downloading pymorphy2_dicts_ru-2.4.417127.4579844-py2.py3-none-any.whl (8.2 MB)\n",
      "\u001b[K     |████████████████████████████████| 8.2 MB 46.0 MB/s \n",
      "\u001b[?25hCollecting dawg-python>=0.7.1\n",
      "  Downloading DAWG_Python-0.7.2-py2.py3-none-any.whl (11 kB)\n",
      "Installing collected packages: pymorphy2-dicts-ru, dawg-python, pymorphy2\n",
      "Successfully installed dawg-python-0.7.2 pymorphy2-0.9.1 pymorphy2-dicts-ru-2.4.417127.4579844\n",
      "Looking in indexes: https://pypi.org/simple, https://us-python.pkg.dev/colab-wheels/public/simple/\n",
      "Collecting stop_words\n",
      "  Downloading stop-words-2018.7.23.tar.gz (31 kB)\n",
      "Building wheels for collected packages: stop-words\n",
      "  Building wheel for stop-words (setup.py) ... \u001b[?25l\u001b[?25hdone\n",
      "  Created wheel for stop-words: filename=stop_words-2018.7.23-py3-none-any.whl size=32911 sha256=859f2d9ac13402e671d0b3f1c6460c964da93739ccd604412d201265a8cc053e\n",
      "  Stored in directory: /root/.cache/pip/wheels/fb/86/b2/277b10b1ce9f73ce15059bf6975d4547cc4ec3feeb651978e9\n",
      "Successfully built stop-words\n",
      "Installing collected packages: stop-words\n",
      "Successfully installed stop-words-2018.7.23\n",
      "Looking in indexes: https://pypi.org/simple, https://us-python.pkg.dev/colab-wheels/public/simple/\n",
      "Collecting pyLDAvis\n",
      "  Downloading pyLDAvis-3.3.1.tar.gz (1.7 MB)\n",
      "\u001b[K     |████████████████████████████████| 1.7 MB 16.7 MB/s \n",
      "\u001b[?25h  Installing build dependencies ... \u001b[?25l\u001b[?25hdone\n",
      "  Getting requirements to build wheel ... \u001b[?25l\u001b[?25hdone\n",
      "  Installing backend dependencies ... \u001b[?25l\u001b[?25hdone\n",
      "    Preparing wheel metadata ... \u001b[?25l\u001b[?25hdone\n",
      "Requirement already satisfied: numpy>=1.20.0 in /usr/local/lib/python3.7/dist-packages (from pyLDAvis) (1.21.6)\n",
      "Collecting funcy\n",
      "  Downloading funcy-1.17-py2.py3-none-any.whl (33 kB)\n",
      "Requirement already satisfied: future in /usr/local/lib/python3.7/dist-packages (from pyLDAvis) (0.16.0)\n",
      "Requirement already satisfied: scikit-learn in /usr/local/lib/python3.7/dist-packages (from pyLDAvis) (1.0.2)\n",
      "Requirement already satisfied: numexpr in /usr/local/lib/python3.7/dist-packages (from pyLDAvis) (2.8.3)\n",
      "Requirement already satisfied: setuptools in /usr/local/lib/python3.7/dist-packages (from pyLDAvis) (57.4.0)\n",
      "Requirement already satisfied: scipy in /usr/local/lib/python3.7/dist-packages (from pyLDAvis) (1.7.3)\n",
      "Requirement already satisfied: jinja2 in /usr/local/lib/python3.7/dist-packages (from pyLDAvis) (2.11.3)\n",
      "Collecting sklearn\n",
      "  Downloading sklearn-0.0.tar.gz (1.1 kB)\n",
      "Requirement already satisfied: joblib in /usr/local/lib/python3.7/dist-packages (from pyLDAvis) (1.1.0)\n",
      "Requirement already satisfied: gensim in /usr/local/lib/python3.7/dist-packages (from pyLDAvis) (3.6.0)\n",
      "Requirement already satisfied: pandas>=1.2.0 in /usr/local/lib/python3.7/dist-packages (from pyLDAvis) (1.3.5)\n",
      "Requirement already satisfied: pytz>=2017.3 in /usr/local/lib/python3.7/dist-packages (from pandas>=1.2.0->pyLDAvis) (2022.2.1)\n",
      "Requirement already satisfied: python-dateutil>=2.7.3 in /usr/local/lib/python3.7/dist-packages (from pandas>=1.2.0->pyLDAvis) (2.8.2)\n",
      "Requirement already satisfied: six>=1.5 in /usr/local/lib/python3.7/dist-packages (from python-dateutil>=2.7.3->pandas>=1.2.0->pyLDAvis) (1.15.0)\n",
      "Requirement already satisfied: smart-open>=1.2.1 in /usr/local/lib/python3.7/dist-packages (from gensim->pyLDAvis) (5.2.1)\n",
      "Requirement already satisfied: MarkupSafe>=0.23 in /usr/local/lib/python3.7/dist-packages (from jinja2->pyLDAvis) (2.0.1)\n",
      "Requirement already satisfied: packaging in /usr/local/lib/python3.7/dist-packages (from numexpr->pyLDAvis) (21.3)\n",
      "Requirement already satisfied: pyparsing!=3.0.5,>=2.0.2 in /usr/local/lib/python3.7/dist-packages (from packaging->numexpr->pyLDAvis) (3.0.9)\n",
      "Requirement already satisfied: threadpoolctl>=2.0.0 in /usr/local/lib/python3.7/dist-packages (from scikit-learn->pyLDAvis) (3.1.0)\n",
      "Building wheels for collected packages: pyLDAvis, sklearn\n",
      "  Building wheel for pyLDAvis (PEP 517) ... \u001b[?25l\u001b[?25hdone\n",
      "  Created wheel for pyLDAvis: filename=pyLDAvis-3.3.1-py2.py3-none-any.whl size=136898 sha256=6ff366fafbd096b3c6fbb1c03dff88fe268d5ed44e9e8f1709067df5618b7217\n",
      "  Stored in directory: /root/.cache/pip/wheels/c9/21/f6/17bcf2667e8a68532ba2fbf6d5c72fdf4c7f7d9abfa4852d2f\n",
      "  Building wheel for sklearn (setup.py) ... \u001b[?25l\u001b[?25hdone\n",
      "  Created wheel for sklearn: filename=sklearn-0.0-py2.py3-none-any.whl size=1310 sha256=b62f97d2045c960c40143019c20752718e7d847d485f0b26129eb31f6be5c1a2\n",
      "  Stored in directory: /root/.cache/pip/wheels/46/ef/c3/157e41f5ee1372d1be90b09f74f82b10e391eaacca8f22d33e\n",
      "Successfully built pyLDAvis sklearn\n",
      "Installing collected packages: sklearn, funcy, pyLDAvis\n",
      "Successfully installed funcy-1.17 pyLDAvis-3.3.1 sklearn-0.0\n"
     ]
    }
   ],
   "source": [
    "!pip install apache_beam\n",
    "\n",
    "!pip install annoy\n",
    "\n",
    "!pip install pymorphy2\n",
    "\n",
    "!pip install stop_words\n",
    "\n",
    "!pip install pyLDAvis"
   ]
  },
  {
   "cell_type": "code",
   "execution_count": 2,
   "metadata": {
    "colab": {
     "base_uri": "https://localhost:8080/"
    },
    "id": "oi_DosgiFydx",
    "outputId": "3b4f741d-fcf8-4aea-accd-02a6ec27268b"
   },
   "outputs": [
    {
     "name": "stderr",
     "output_type": "stream",
     "text": [
      "[nltk_data] Downloading package stopwords to /root/nltk_data...\n",
      "[nltk_data]   Unzipping corpora/stopwords.zip.\n",
      "/usr/local/lib/python3.7/dist-packages/past/types/oldstr.py:5: DeprecationWarning: Using or importing the ABCs from 'collections' instead of from 'collections.abc' is deprecated since Python 3.3,and in 3.9 it will stop working\n",
      "  from collections import Iterable\n"
     ]
    }
   ],
   "source": [
    "import numpy as np\n",
    "\n",
    "import pandas as pd\n",
    "\n",
    "import re\n",
    "\n",
    "import nltk\n",
    "from nltk.corpus import stopwords\n",
    "nltk.download('stopwords')\n",
    "\n",
    "from pymystem3 import Mystem\n",
    "\n",
    "import pymorphy2\n",
    "\n",
    "from gensim.models import *\n",
    "from gensim import corpora\n",
    "\n",
    "import pyLDAvis\n",
    "import pyLDAvis.gensim_models as gensimvis\n",
    "\n",
    "import warnings \n",
    "warnings.filterwarnings(\"ignore\", category=DeprecationWarning)\n",
    "\n",
    "import matplotlib.pyplot as plt\n",
    "%matplotlib inline"
   ]
  },
  {
   "cell_type": "markdown",
   "metadata": {
    "id": "vQ97qyGBJS3s"
   },
   "source": [
    "**Произведем загрузку данных.**"
   ]
  },
  {
   "cell_type": "code",
   "execution_count": 3,
   "metadata": {
    "colab": {
     "base_uri": "https://localhost:8080/"
    },
    "id": "zsWmZaBJIVnH",
    "outputId": "ab4a4d37-1451-4dcd-eac6-86d6c7876a71"
   },
   "outputs": [
    {
     "name": "stdout",
     "output_type": "stream",
     "text": [
      "--2022-09-03 16:48:19--  https://www.dropbox.com/s/fnpq3z4bcnoktiv/positive.csv\n",
      "Resolving www.dropbox.com (www.dropbox.com)... 162.125.6.18, 2620:100:6019:18::a27d:412\n",
      "Connecting to www.dropbox.com (www.dropbox.com)|162.125.6.18|:443... connected.\n",
      "HTTP request sent, awaiting response... 302 Found\n",
      "Location: /s/raw/fnpq3z4bcnoktiv/positive.csv [following]\n",
      "--2022-09-03 16:48:19--  https://www.dropbox.com/s/raw/fnpq3z4bcnoktiv/positive.csv\n",
      "Reusing existing connection to www.dropbox.com:443.\n",
      "HTTP request sent, awaiting response... 302 Found\n",
      "Location: https://ucc1394389a02dd699e52b575ede.dl.dropboxusercontent.com/cd/0/inline/BsS1cD-gf-VLuOJNgpxgU57m0uBYnH_TcR3xtQuIyYVJPQkUgQlRDVo-liq7wIQ59iZ47qBT5G8wDoCNUTdTwm2n41f-fKkcY5AqTRLvUI6_Y-eVdo0HaEgcSZMNJZIUvpWgru8iJE6mz87tBIPn6LiEHAXKMz9dgkM0Tzam0jKWCw/file# [following]\n",
      "--2022-09-03 16:48:19--  https://ucc1394389a02dd699e52b575ede.dl.dropboxusercontent.com/cd/0/inline/BsS1cD-gf-VLuOJNgpxgU57m0uBYnH_TcR3xtQuIyYVJPQkUgQlRDVo-liq7wIQ59iZ47qBT5G8wDoCNUTdTwm2n41f-fKkcY5AqTRLvUI6_Y-eVdo0HaEgcSZMNJZIUvpWgru8iJE6mz87tBIPn6LiEHAXKMz9dgkM0Tzam0jKWCw/file\n",
      "Resolving ucc1394389a02dd699e52b575ede.dl.dropboxusercontent.com (ucc1394389a02dd699e52b575ede.dl.dropboxusercontent.com)... 162.125.6.15, 2620:100:6019:15::a27d:40f\n",
      "Connecting to ucc1394389a02dd699e52b575ede.dl.dropboxusercontent.com (ucc1394389a02dd699e52b575ede.dl.dropboxusercontent.com)|162.125.6.15|:443... connected.\n",
      "HTTP request sent, awaiting response... 200 OK\n",
      "Length: 26233379 (25M) [text/plain]\n",
      "Saving to: ‘positive.csv’\n",
      "\n",
      "positive.csv        100%[===================>]  25.02M  --.-KB/s    in 0.1s    \n",
      "\n",
      "2022-09-03 16:48:20 (236 MB/s) - ‘positive.csv’ saved [26233379/26233379]\n",
      "\n",
      "--2022-09-03 16:48:20--  https://www.dropbox.com/s/r6u59ljhhjdg6j0/negative.csv\n",
      "Resolving www.dropbox.com (www.dropbox.com)... 162.125.6.18, 2620:100:6019:18::a27d:412\n",
      "Connecting to www.dropbox.com (www.dropbox.com)|162.125.6.18|:443... connected.\n",
      "HTTP request sent, awaiting response... 302 Found\n",
      "Location: /s/raw/r6u59ljhhjdg6j0/negative.csv [following]\n",
      "--2022-09-03 16:48:20--  https://www.dropbox.com/s/raw/r6u59ljhhjdg6j0/negative.csv\n",
      "Reusing existing connection to www.dropbox.com:443.\n",
      "HTTP request sent, awaiting response... 302 Found\n",
      "Location: https://uc11173f43b1de35282cc4262273.dl.dropboxusercontent.com/cd/0/inline/BsTghe_3Bcr-fN8wusj-jHg87oAgaAuBsTKBAN-OfhGuEsx8Rq674ZU6WQmThXeFE4djtBXb2a-sygmgE_mlo22_IQmJs8PwlXiB-2EvYA_W1qmMXYfdLjQnQGnWe7OU6y0aWKy9knc-eOI6XEp9nwzwiwGxXXAfFG9hibVHa_38dg/file# [following]\n",
      "--2022-09-03 16:48:20--  https://uc11173f43b1de35282cc4262273.dl.dropboxusercontent.com/cd/0/inline/BsTghe_3Bcr-fN8wusj-jHg87oAgaAuBsTKBAN-OfhGuEsx8Rq674ZU6WQmThXeFE4djtBXb2a-sygmgE_mlo22_IQmJs8PwlXiB-2EvYA_W1qmMXYfdLjQnQGnWe7OU6y0aWKy9knc-eOI6XEp9nwzwiwGxXXAfFG9hibVHa_38dg/file\n",
      "Resolving uc11173f43b1de35282cc4262273.dl.dropboxusercontent.com (uc11173f43b1de35282cc4262273.dl.dropboxusercontent.com)... 162.125.4.15, 2620:100:6019:15::a27d:40f\n",
      "Connecting to uc11173f43b1de35282cc4262273.dl.dropboxusercontent.com (uc11173f43b1de35282cc4262273.dl.dropboxusercontent.com)|162.125.4.15|:443... connected.\n",
      "HTTP request sent, awaiting response... 200 OK\n",
      "Length: 24450101 (23M) [text/plain]\n",
      "Saving to: ‘negative.csv’\n",
      "\n",
      "negative.csv        100%[===================>]  23.32M  --.-KB/s    in 0.1s    \n",
      "\n",
      "2022-09-03 16:48:21 (165 MB/s) - ‘negative.csv’ saved [24450101/24450101]\n",
      "\n"
     ]
    }
   ],
   "source": [
    "!wget https://www.dropbox.com/s/fnpq3z4bcnoktiv/positive.csv\n",
    "\n",
    "!wget https://www.dropbox.com/s/r6u59ljhhjdg6j0/negative.csv"
   ]
  },
  {
   "cell_type": "code",
   "execution_count": 4,
   "metadata": {
    "colab": {
     "base_uri": "https://localhost:8080/",
     "height": 214
    },
    "id": "lbRAet3eIZbd",
    "outputId": "8d6025d6-ea67-4dce-96b3-f8c523cf21fa"
   },
   "outputs": [
    {
     "data": {
      "text/html": [
       "\n",
       "  <div id=\"df-6e137a54-b609-458d-b38a-827809f7a7ba\">\n",
       "    <div class=\"colab-df-container\">\n",
       "      <div>\n",
       "<style scoped>\n",
       "    .dataframe tbody tr th:only-of-type {\n",
       "        vertical-align: middle;\n",
       "    }\n",
       "\n",
       "    .dataframe tbody tr th {\n",
       "        vertical-align: top;\n",
       "    }\n",
       "\n",
       "    .dataframe thead th {\n",
       "        text-align: right;\n",
       "    }\n",
       "</style>\n",
       "<table border=\"1\" class=\"dataframe\">\n",
       "  <thead>\n",
       "    <tr style=\"text-align: right;\">\n",
       "      <th></th>\n",
       "      <th>text</th>\n",
       "      <th>label</th>\n",
       "    </tr>\n",
       "  </thead>\n",
       "  <tbody>\n",
       "    <tr>\n",
       "      <th>0</th>\n",
       "      <td>@first_timee хоть я и школота, но поверь, у на...</td>\n",
       "      <td>positive</td>\n",
       "    </tr>\n",
       "    <tr>\n",
       "      <th>1</th>\n",
       "      <td>Да, все-таки он немного похож на него. Но мой ...</td>\n",
       "      <td>positive</td>\n",
       "    </tr>\n",
       "    <tr>\n",
       "      <th>2</th>\n",
       "      <td>RT @KatiaCheh: Ну ты идиотка) я испугалась за ...</td>\n",
       "      <td>positive</td>\n",
       "    </tr>\n",
       "    <tr>\n",
       "      <th>3</th>\n",
       "      <td>RT @digger2912: \"Кто то в углу сидит и погибае...</td>\n",
       "      <td>positive</td>\n",
       "    </tr>\n",
       "    <tr>\n",
       "      <th>4</th>\n",
       "      <td>@irina_dyshkant Вот что значит страшилка :D\\nН...</td>\n",
       "      <td>positive</td>\n",
       "    </tr>\n",
       "  </tbody>\n",
       "</table>\n",
       "</div>\n",
       "      <button class=\"colab-df-convert\" onclick=\"convertToInteractive('df-6e137a54-b609-458d-b38a-827809f7a7ba')\"\n",
       "              title=\"Convert this dataframe to an interactive table.\"\n",
       "              style=\"display:none;\">\n",
       "        \n",
       "  <svg xmlns=\"http://www.w3.org/2000/svg\" height=\"24px\"viewBox=\"0 0 24 24\"\n",
       "       width=\"24px\">\n",
       "    <path d=\"M0 0h24v24H0V0z\" fill=\"none\"/>\n",
       "    <path d=\"M18.56 5.44l.94 2.06.94-2.06 2.06-.94-2.06-.94-.94-2.06-.94 2.06-2.06.94zm-11 1L8.5 8.5l.94-2.06 2.06-.94-2.06-.94L8.5 2.5l-.94 2.06-2.06.94zm10 10l.94 2.06.94-2.06 2.06-.94-2.06-.94-.94-2.06-.94 2.06-2.06.94z\"/><path d=\"M17.41 7.96l-1.37-1.37c-.4-.4-.92-.59-1.43-.59-.52 0-1.04.2-1.43.59L10.3 9.45l-7.72 7.72c-.78.78-.78 2.05 0 2.83L4 21.41c.39.39.9.59 1.41.59.51 0 1.02-.2 1.41-.59l7.78-7.78 2.81-2.81c.8-.78.8-2.07 0-2.86zM5.41 20L4 18.59l7.72-7.72 1.47 1.35L5.41 20z\"/>\n",
       "  </svg>\n",
       "      </button>\n",
       "      \n",
       "  <style>\n",
       "    .colab-df-container {\n",
       "      display:flex;\n",
       "      flex-wrap:wrap;\n",
       "      gap: 12px;\n",
       "    }\n",
       "\n",
       "    .colab-df-convert {\n",
       "      background-color: #E8F0FE;\n",
       "      border: none;\n",
       "      border-radius: 50%;\n",
       "      cursor: pointer;\n",
       "      display: none;\n",
       "      fill: #1967D2;\n",
       "      height: 32px;\n",
       "      padding: 0 0 0 0;\n",
       "      width: 32px;\n",
       "    }\n",
       "\n",
       "    .colab-df-convert:hover {\n",
       "      background-color: #E2EBFA;\n",
       "      box-shadow: 0px 1px 2px rgba(60, 64, 67, 0.3), 0px 1px 3px 1px rgba(60, 64, 67, 0.15);\n",
       "      fill: #174EA6;\n",
       "    }\n",
       "\n",
       "    [theme=dark] .colab-df-convert {\n",
       "      background-color: #3B4455;\n",
       "      fill: #D2E3FC;\n",
       "    }\n",
       "\n",
       "    [theme=dark] .colab-df-convert:hover {\n",
       "      background-color: #434B5C;\n",
       "      box-shadow: 0px 1px 3px 1px rgba(0, 0, 0, 0.15);\n",
       "      filter: drop-shadow(0px 1px 2px rgba(0, 0, 0, 0.3));\n",
       "      fill: #FFFFFF;\n",
       "    }\n",
       "  </style>\n",
       "\n",
       "      <script>\n",
       "        const buttonEl =\n",
       "          document.querySelector('#df-6e137a54-b609-458d-b38a-827809f7a7ba button.colab-df-convert');\n",
       "        buttonEl.style.display =\n",
       "          google.colab.kernel.accessAllowed ? 'block' : 'none';\n",
       "\n",
       "        async function convertToInteractive(key) {\n",
       "          const element = document.querySelector('#df-6e137a54-b609-458d-b38a-827809f7a7ba');\n",
       "          const dataTable =\n",
       "            await google.colab.kernel.invokeFunction('convertToInteractive',\n",
       "                                                     [key], {});\n",
       "          if (!dataTable) return;\n",
       "\n",
       "          const docLinkHtml = 'Like what you see? Visit the ' +\n",
       "            '<a target=\"_blank\" href=https://colab.research.google.com/notebooks/data_table.ipynb>data table notebook</a>'\n",
       "            + ' to learn more about interactive tables.';\n",
       "          element.innerHTML = '';\n",
       "          dataTable['output_type'] = 'display_data';\n",
       "          await google.colab.output.renderOutput(dataTable, element);\n",
       "          const docLink = document.createElement('div');\n",
       "          docLink.innerHTML = docLinkHtml;\n",
       "          element.appendChild(docLink);\n",
       "        }\n",
       "      </script>\n",
       "    </div>\n",
       "  </div>\n",
       "  "
      ],
      "text/plain": [
       "                                                text     label\n",
       "0  @first_timee хоть я и школота, но поверь, у на...  positive\n",
       "1  Да, все-таки он немного похож на него. Но мой ...  positive\n",
       "2  RT @KatiaCheh: Ну ты идиотка) я испугалась за ...  positive\n",
       "3  RT @digger2912: \"Кто то в углу сидит и погибае...  positive\n",
       "4  @irina_dyshkant Вот что значит страшилка :D\\nН...  positive"
      ]
     },
     "execution_count": 4,
     "metadata": {},
     "output_type": "execute_result"
    }
   ],
   "source": [
    "positive = pd.read_csv('positive.csv', sep=';', usecols=[3], names=['text'])\n",
    "positive['label'] = ['positive'] * len(positive)\n",
    "\n",
    "negative = pd.read_csv('negative.csv', sep=';', usecols=[3], names=['text'])\n",
    "negative['label'] = ['negative'] * len(negative)\n",
    "\n",
    "df = pd.concat([positive, negative], ignore_index=True)\n",
    "\n",
    "df.head()"
   ]
  },
  {
   "cell_type": "markdown",
   "metadata": {
    "id": "gPTYLY6MI66P"
   },
   "source": [
    "**Проведем предобработку данных.**"
   ]
  },
  {
   "cell_type": "code",
   "execution_count": 5,
   "metadata": {
    "id": "QcNi00d0JQ4x"
   },
   "outputs": [],
   "source": [
    "words_regex = re.compile('\\w+')"
   ]
  },
  {
   "cell_type": "code",
   "execution_count": 6,
   "metadata": {
    "id": "YCBUbKHHJgJA"
   },
   "outputs": [],
   "source": [
    "def find_words(text, regex = words_regex):\n",
    "    tokens = regex.findall(text)\n",
    "    return [w for w in tokens if w.isalpha() and len(w)>= 4] "
   ]
  },
  {
   "cell_type": "code",
   "execution_count": 7,
   "metadata": {
    "id": "X_DK4Fs8Jxfj"
   },
   "outputs": [],
   "source": [
    "morph = pymorphy2.MorphAnalyzer() \n",
    "stopwords_list = stopwords.words('russian') "
   ]
  },
  {
   "cell_type": "code",
   "execution_count": 8,
   "metadata": {
    "id": "fhrgLuWMJ2Ak"
   },
   "outputs": [],
   "source": [
    "def lemmatize(words, lemmer = morph, stopwords = stopwords_list):\n",
    "    lemmas = [lemmer.parse(w)[0].normal_form for w in words] \n",
    "    return [w for w in lemmas if not w in stopwords and w.isalpha()] "
   ]
  },
  {
   "cell_type": "code",
   "execution_count": 9,
   "metadata": {
    "id": "k78AgXzTJ4AY"
   },
   "outputs": [],
   "source": [
    "def clear_tokens(tokens):\n",
    "    string_tokens = ' '.join(tokens)\n",
    "    string_tokens = re.sub(r'[A-za-z]', ' ',  string_tokens) \n",
    "    string_tokens = re.sub(r'\\w+ще\\b', ' ',  string_tokens) \n",
    "    string_tokens = re.sub(r'\\bбл\\w+', ' ',  string_tokens) \n",
    "    string_tokens = re.sub(r'значит', ' ',  string_tokens) \n",
    "    string_tokens = re.sub(r'почему', ' ',  string_tokens) \n",
    "    string_tokens = re.sub(r'свой', ' ',  string_tokens) \n",
    "    string_tokens = re.sub(r'капец', ' ',  string_tokens) \n",
    "    string_tokens = re.sub(r'который', ' ',  string_tokens)\n",
    "    string_tokens = re.sub(r'это', ' ',  string_tokens)\n",
    "    string_tokens = re.sub(r'весь', ' ',  string_tokens)\n",
    "    string_tokens = re.sub(r'\\bидио\\w+', ' ',  string_tokens) \n",
    "    string_tokens = re.sub(r'\\bпид\\w+', ' ',  string_tokens)\n",
    "    string_tokens = re.sub(r'\\bхуй\\w+', ' ', string_tokens)\n",
    "    string_tokens = re.sub(r'\\w+xу.\\b', ' ',  string_tokens)\n",
    "    string_tokens = re.sub(r'\\w+xу\\w+', ' ',  string_tokens)\n",
    "    string_tokens = re.sub(r'\\w+но\\b', ' ',  string_tokens)\n",
    "    string_tokens = re.sub(r'\\bпоп\\w+', ' ',  string_tokens)\n",
    "    string_tokens = re.sub(r'\\bпиз\\w+', ' ',  string_tokens)\n",
    "    string_tokens = re.sub(r'\\bгов\\w+', ' ',  string_tokens)\n",
    "    string_tokens = re.sub(r'\\bфиг\\w+', ' ',  string_tokens)\n",
    "    string_tokens = re.sub(r'сука', ' ',  string_tokens)\n",
    "    string_tokens = re.sub(r'очень', ' ',  string_tokens)\n",
    "    string_tokens = re.sub(r'лох', ' ',  string_tokens)\n",
    "    string_tokens = re.sub(r'\\bпи.де\\w+', ' ',  string_tokens)\n",
    "    string_tokens = re.sub(r'нету', ' ',  string_tokens)\n",
    "    string_tokens = re.sub(r'ой', ' ',  string_tokens)\n",
    "    string_tokens = re.sub(r'\\bхот\\w+', ' ',  string_tokens)\n",
    "    string_tokens = re.sub(r'\\bпрост\\w+', ' ',  string_tokens)\n",
    "    string_tokens = re.sub(r'\\bника\\w+', ' ',  string_tokens)\n",
    "    string_tokens = re.sub(r'\\w+ть\\b', ' ',  string_tokens)\n",
    "    string_tokens = re.sub(r'мочь', ' ',  string_tokens)\n",
    "    clear_tokens = string_tokens.split()\n",
    "    clear_tokens = [w for w in clear_tokens if len(w)>2]\n",
    "    return clear_tokens"
   ]
  },
  {
   "cell_type": "code",
   "execution_count": 10,
   "metadata": {
    "id": "GhKdKYvuJ83r"
   },
   "outputs": [],
   "source": [
    "def preprocess(text):\n",
    "    return (clear_tokens(lemmatize(find_words(text))))"
   ]
  },
  {
   "cell_type": "code",
   "execution_count": 11,
   "metadata": {
    "colab": {
     "base_uri": "https://localhost:8080/",
     "height": 206
    },
    "id": "RsZFgnYPJ_v3",
    "outputId": "4a169eac-8aed-4ac2-c04b-0ac321843a5b"
   },
   "outputs": [
    {
     "data": {
      "text/html": [
       "\n",
       "  <div id=\"df-8a7d99fc-4cb8-48e4-a373-0e4e1f7a7d52\">\n",
       "    <div class=\"colab-df-container\">\n",
       "      <div>\n",
       "<style scoped>\n",
       "    .dataframe tbody tr th:only-of-type {\n",
       "        vertical-align: middle;\n",
       "    }\n",
       "\n",
       "    .dataframe tbody tr th {\n",
       "        vertical-align: top;\n",
       "    }\n",
       "\n",
       "    .dataframe thead th {\n",
       "        text-align: right;\n",
       "    }\n",
       "</style>\n",
       "<table border=\"1\" class=\"dataframe\">\n",
       "  <thead>\n",
       "    <tr style=\"text-align: right;\">\n",
       "      <th></th>\n",
       "      <th>text</th>\n",
       "      <th>label</th>\n",
       "    </tr>\n",
       "  </thead>\n",
       "  <tbody>\n",
       "    <tr>\n",
       "      <th>0</th>\n",
       "      <td>[школотый, поверь, самый, общество, предмет, тип]</td>\n",
       "      <td>positive</td>\n",
       "    </tr>\n",
       "    <tr>\n",
       "      <th>1</th>\n",
       "      <td>[таки, немного, похожий, мальчик, хороший]</td>\n",
       "      <td>positive</td>\n",
       "    </tr>\n",
       "    <tr>\n",
       "      <th>2</th>\n",
       "      <td>[испугаться]</td>\n",
       "      <td>positive</td>\n",
       "    </tr>\n",
       "    <tr>\n",
       "      <th>3</th>\n",
       "      <td>[угол, голод, порция]</td>\n",
       "      <td>positive</td>\n",
       "    </tr>\n",
       "    <tr>\n",
       "      <th>4</th>\n",
       "      <td>[страшилка, создаться, ощущение, автор]</td>\n",
       "      <td>positive</td>\n",
       "    </tr>\n",
       "  </tbody>\n",
       "</table>\n",
       "</div>\n",
       "      <button class=\"colab-df-convert\" onclick=\"convertToInteractive('df-8a7d99fc-4cb8-48e4-a373-0e4e1f7a7d52')\"\n",
       "              title=\"Convert this dataframe to an interactive table.\"\n",
       "              style=\"display:none;\">\n",
       "        \n",
       "  <svg xmlns=\"http://www.w3.org/2000/svg\" height=\"24px\"viewBox=\"0 0 24 24\"\n",
       "       width=\"24px\">\n",
       "    <path d=\"M0 0h24v24H0V0z\" fill=\"none\"/>\n",
       "    <path d=\"M18.56 5.44l.94 2.06.94-2.06 2.06-.94-2.06-.94-.94-2.06-.94 2.06-2.06.94zm-11 1L8.5 8.5l.94-2.06 2.06-.94-2.06-.94L8.5 2.5l-.94 2.06-2.06.94zm10 10l.94 2.06.94-2.06 2.06-.94-2.06-.94-.94-2.06-.94 2.06-2.06.94z\"/><path d=\"M17.41 7.96l-1.37-1.37c-.4-.4-.92-.59-1.43-.59-.52 0-1.04.2-1.43.59L10.3 9.45l-7.72 7.72c-.78.78-.78 2.05 0 2.83L4 21.41c.39.39.9.59 1.41.59.51 0 1.02-.2 1.41-.59l7.78-7.78 2.81-2.81c.8-.78.8-2.07 0-2.86zM5.41 20L4 18.59l7.72-7.72 1.47 1.35L5.41 20z\"/>\n",
       "  </svg>\n",
       "      </button>\n",
       "      \n",
       "  <style>\n",
       "    .colab-df-container {\n",
       "      display:flex;\n",
       "      flex-wrap:wrap;\n",
       "      gap: 12px;\n",
       "    }\n",
       "\n",
       "    .colab-df-convert {\n",
       "      background-color: #E8F0FE;\n",
       "      border: none;\n",
       "      border-radius: 50%;\n",
       "      cursor: pointer;\n",
       "      display: none;\n",
       "      fill: #1967D2;\n",
       "      height: 32px;\n",
       "      padding: 0 0 0 0;\n",
       "      width: 32px;\n",
       "    }\n",
       "\n",
       "    .colab-df-convert:hover {\n",
       "      background-color: #E2EBFA;\n",
       "      box-shadow: 0px 1px 2px rgba(60, 64, 67, 0.3), 0px 1px 3px 1px rgba(60, 64, 67, 0.15);\n",
       "      fill: #174EA6;\n",
       "    }\n",
       "\n",
       "    [theme=dark] .colab-df-convert {\n",
       "      background-color: #3B4455;\n",
       "      fill: #D2E3FC;\n",
       "    }\n",
       "\n",
       "    [theme=dark] .colab-df-convert:hover {\n",
       "      background-color: #434B5C;\n",
       "      box-shadow: 0px 1px 3px 1px rgba(0, 0, 0, 0.15);\n",
       "      filter: drop-shadow(0px 1px 2px rgba(0, 0, 0, 0.3));\n",
       "      fill: #FFFFFF;\n",
       "    }\n",
       "  </style>\n",
       "\n",
       "      <script>\n",
       "        const buttonEl =\n",
       "          document.querySelector('#df-8a7d99fc-4cb8-48e4-a373-0e4e1f7a7d52 button.colab-df-convert');\n",
       "        buttonEl.style.display =\n",
       "          google.colab.kernel.accessAllowed ? 'block' : 'none';\n",
       "\n",
       "        async function convertToInteractive(key) {\n",
       "          const element = document.querySelector('#df-8a7d99fc-4cb8-48e4-a373-0e4e1f7a7d52');\n",
       "          const dataTable =\n",
       "            await google.colab.kernel.invokeFunction('convertToInteractive',\n",
       "                                                     [key], {});\n",
       "          if (!dataTable) return;\n",
       "\n",
       "          const docLinkHtml = 'Like what you see? Visit the ' +\n",
       "            '<a target=\"_blank\" href=https://colab.research.google.com/notebooks/data_table.ipynb>data table notebook</a>'\n",
       "            + ' to learn more about interactive tables.';\n",
       "          element.innerHTML = '';\n",
       "          dataTable['output_type'] = 'display_data';\n",
       "          await google.colab.output.renderOutput(dataTable, element);\n",
       "          const docLink = document.createElement('div');\n",
       "          docLink.innerHTML = docLinkHtml;\n",
       "          element.appendChild(docLink);\n",
       "        }\n",
       "      </script>\n",
       "    </div>\n",
       "  </div>\n",
       "  "
      ],
      "text/plain": [
       "                                                text     label\n",
       "0  [школотый, поверь, самый, общество, предмет, тип]  positive\n",
       "1         [таки, немного, похожий, мальчик, хороший]  positive\n",
       "2                                       [испугаться]  positive\n",
       "3                              [угол, голод, порция]  positive\n",
       "4            [страшилка, создаться, ощущение, автор]  positive"
      ]
     },
     "execution_count": 11,
     "metadata": {},
     "output_type": "execute_result"
    }
   ],
   "source": [
    "df['text'] = df['text'].apply(preprocess)\n",
    "\n",
    "df.head()"
   ]
  },
  {
   "cell_type": "markdown",
   "metadata": {
    "id": "o8LvcYS4LhhD"
   },
   "source": [
    "**Модель Latent Dirichlet Allocation (LDA).**"
   ]
  },
  {
   "cell_type": "markdown",
   "metadata": {
    "id": "a8ciEsa6MI7h"
   },
   "source": [
    "Создадим словарь, состоящий из уникальных токенов датасета."
   ]
  },
  {
   "cell_type": "code",
   "execution_count": 12,
   "metadata": {
    "colab": {
     "base_uri": "https://localhost:8080/"
    },
    "id": "IGSB-L39LzD4",
    "outputId": "41edf924-2963-4f3d-87b5-7ed62c434f25"
   },
   "outputs": [
    {
     "data": {
      "text/plain": [
       "8172"
      ]
     },
     "execution_count": 12,
     "metadata": {},
     "output_type": "execute_result"
    }
   ],
   "source": [
    "dictionary = corpora.Dictionary(df['text']) \n",
    "\n",
    "dictionary.filter_extremes(no_below = 10, no_above = 0.9, keep_n=None) \n",
    "\n",
    "dictionary.save('tweet.dict')\n",
    "\n",
    "len(dictionary.keys()) "
   ]
  },
  {
   "cell_type": "markdown",
   "metadata": {
    "id": "yiyn0Mb3MQJB"
   },
   "source": [
    "Векторизуем твиты."
   ]
  },
  {
   "cell_type": "code",
   "execution_count": 13,
   "metadata": {
    "id": "6o43wOSkMS3q"
   },
   "outputs": [],
   "source": [
    "corpus = [dictionary.doc2bow(text) for text in df['text']]\n",
    " \n",
    "corpora.MmCorpus.serialize('tweet.model', corpus) "
   ]
  },
  {
   "cell_type": "code",
   "execution_count": 14,
   "metadata": {
    "colab": {
     "base_uri": "https://localhost:8080/"
    },
    "id": "5lxEEp1-MYMF",
    "outputId": "b1663687-945e-4e6e-ebc3-ef991775b58d"
   },
   "outputs": [
    {
     "name": "stdout",
     "output_type": "stream",
     "text": [
      "['школотый', 'поверь', 'самый', 'общество', 'предмет', 'тип']\n",
      "[(0, 1.0), (1, 1.0), (2, 1.0), (3, 1.0), (4, 1.0), (5, 1.0)]\n"
     ]
    }
   ],
   "source": [
    "mm = corpora.MmCorpus('tweet.model') \n",
    "\n",
    "print(df['text'].values[0])\n",
    "\n",
    "print(mm[0]) "
   ]
  },
  {
   "cell_type": "markdown",
   "metadata": {
    "id": "FhROyiIxMtUo"
   },
   "source": [
    "Произведем обучение модели."
   ]
  },
  {
   "cell_type": "code",
   "execution_count": 15,
   "metadata": {
    "id": "nM5TCM-2MwKI"
   },
   "outputs": [],
   "source": [
    "lda = ldamodel.LdaModel(corpus, id2word=dictionary, num_topics=3)"
   ]
  },
  {
   "cell_type": "markdown",
   "metadata": {
    "id": "6WL9VTE_NCss"
   },
   "source": [
    "Определим вероятные темы."
   ]
  },
  {
   "cell_type": "code",
   "execution_count": 16,
   "metadata": {
    "colab": {
     "base_uri": "https://localhost:8080/"
    },
    "id": "Rd_wMqkLNFgZ",
    "outputId": "83c48371-937d-4a35-ffe7-ea97a3be64f2"
   },
   "outputs": [
    {
     "data": {
      "text/plain": [
       "[(0,\n",
       "  '0.024*\"человек\" + 0.020*\"больш\" + 0.017*\"жизнь\" + 0.017*\"новый\" + 0.013*\"друг\" + 0.011*\"год\" + 0.010*\"голова\" + 0.009*\"найти\" + 0.009*\"остаться\" + 0.008*\"телефон\" + 0.008*\"прийтись\" + 0.007*\"хороший\" + 0.007*\"бояться\" + 0.007*\"рука\" + 0.006*\"спасибо\" + 0.006*\"мало\" + 0.006*\"слово\" + 0.006*\"фотка\" + 0.006*\"парень\" + 0.005*\"твит\"'),\n",
       " (1,\n",
       "  '0.038*\"день\" + 0.023*\"сегодня\" + 0.014*\"время\" + 0.013*\"жаль\" + 0.012*\"утро\" + 0.012*\"последний\" + 0.010*\"неделя\" + 0.010*\"хороший\" + 0.009*\"настроение\" + 0.009*\"каждый\" + 0.009*\"экзамен\" + 0.008*\"самый\" + 0.008*\"каникулы\" + 0.007*\"закончиться\" + 0.007*\"вроде\" + 0.007*\"любимый\" + 0.006*\"твиттер\" + 0.006*\"пока\" + 0.006*\"нужный\" + 0.006*\"ужасный\"'),\n",
       " (2,\n",
       "  '0.029*\"завтра\" + 0.022*\"дом\" + 0.019*\"школа\" + 0.015*\"сегодня\" + 0.012*\"идти\" + 0.012*\"никто\" + 0.011*\"мама\" + 0.011*\"час\" + 0.010*\"работа\" + 0.009*\"ночь\" + 0.008*\"прийти\" + 0.008*\"урок\" + 0.007*\"втор\" + 0.007*\"улица\" + 0.007*\"фильм\" + 0.007*\"нравиться\" + 0.006*\"снег\" + 0.006*\"правда\" + 0.006*\"маленький\" + 0.005*\"ранний\"')]"
      ]
     },
     "execution_count": 16,
     "metadata": {},
     "output_type": "execute_result"
    }
   ],
   "source": [
    "lda.show_topics(num_topics=3, num_words=20, formatted=True)"
   ]
  },
  {
   "cell_type": "markdown",
   "metadata": {
    "id": "NDnAOlZaNQQq"
   },
   "source": [
    "Оценим качество модели."
   ]
  },
  {
   "cell_type": "code",
   "execution_count": 17,
   "metadata": {
    "colab": {
     "base_uri": "https://localhost:8080/"
    },
    "id": "pu1JP-leNTbC",
    "outputId": "4974448c-8461-42da-c039-d6d16b97834d"
   },
   "outputs": [
    {
     "name": "stdout",
     "output_type": "stream",
     "text": [
      "-8.005068308072145\n"
     ]
    }
   ],
   "source": [
    "print(lda.log_perplexity(corpus))"
   ]
  },
  {
   "cell_type": "code",
   "execution_count": 18,
   "metadata": {
    "colab": {
     "base_uri": "https://localhost:8080/"
    },
    "id": "o34C0kXrNVWd",
    "outputId": "f74410de-5e6c-41dc-aff5-eb793ee80400"
   },
   "outputs": [
    {
     "name": "stdout",
     "output_type": "stream",
     "text": [
      "Персплексия:  0.00033376671935011863\n"
     ]
    }
   ],
   "source": [
    "print('Персплексия: ', np.exp(lda.log_perplexity(corpus)))"
   ]
  },
  {
   "cell_type": "markdown",
   "metadata": {
    "id": "BU2jlfcrNw5I"
   },
   "source": [
    "**Визуализируем предсказания модели LDA.**"
   ]
  },
  {
   "cell_type": "code",
   "execution_count": 19,
   "metadata": {
    "colab": {
     "base_uri": "https://localhost:8080/",
     "height": 917
    },
    "id": "ysTYPatFN6Jd",
    "outputId": "24434701-6498-442a-b570-98296c740626"
   },
   "outputs": [
    {
     "name": "stderr",
     "output_type": "stream",
     "text": [
      "/usr/local/lib/python3.7/dist-packages/pyLDAvis/_prepare.py:247: FutureWarning: In a future version of pandas all arguments of DataFrame.drop except for the argument 'labels' will be keyword-only\n",
      "  by='saliency', ascending=False).head(R).drop('saliency', 1)\n"
     ]
    },
    {
     "data": {
      "text/html": [
       "\n",
       "<link rel=\"stylesheet\" type=\"text/css\" href=\"https://cdn.jsdelivr.net/gh/bmabey/pyLDAvis@3.3.1/pyLDAvis/js/ldavis.v1.0.0.css\">\n",
       "\n",
       "\n",
       "<div id=\"ldavis_el621403078109472801021350253\"></div>\n",
       "<script type=\"text/javascript\">\n",
       "\n",
       "var ldavis_el621403078109472801021350253_data = {\"mdsDat\": {\"x\": [0.22220148895563516, -0.34948360835691883, 0.1272821194012838], \"y\": [0.2642675080849393, 0.052613062979735455, -0.31688057106467465], \"topics\": [1, 2, 3], \"cluster\": [1, 1, 1], \"Freq\": [34.4071955840761, 32.9282780489464, 32.6645263669775]}, \"tinfo\": {\"Term\": [\"\\u0434\\u0435\\u043d\\u044c\", \"\\u0437\\u0430\\u0432\\u0442\\u0440\\u0430\", \"\\u0434\\u043e\\u043c\", \"\\u0431\\u043e\\u043b\\u044c\\u0448\", \"\\u0448\\u043a\\u043e\\u043b\\u0430\", \"\\u0447\\u0435\\u043b\\u043e\\u0432\\u0435\\u043a\", \"\\u0436\\u0438\\u0437\\u043d\\u044c\", \"\\u043d\\u043e\\u0432\\u044b\\u0439\", \"\\u0441\\u0435\\u0433\\u043e\\u0434\\u043d\\u044f\", \"\\u0436\\u0430\\u043b\\u044c\", \"\\u0434\\u0440\\u0443\\u0433\", \"\\u043f\\u043e\\u0441\\u043b\\u0435\\u0434\\u043d\\u0438\\u0439\", \"\\u043c\\u0430\\u043c\\u0430\", \"\\u043d\\u0438\\u043a\\u0442\\u043e\", \"\\u0438\\u0434\\u0442\\u0438\", \"\\u0447\\u0430\\u0441\", \"\\u0433\\u043e\\u043b\\u043e\\u0432\\u0430\", \"\\u0433\\u043e\\u0434\", \"\\u043d\\u0435\\u0434\\u0435\\u043b\\u044f\", \"\\u0440\\u0430\\u0431\\u043e\\u0442\\u0430\", \"\\u0443\\u0442\\u0440\\u043e\", \"\\u043d\\u043e\\u0447\\u044c\", \"\\u043d\\u0430\\u0439\\u0442\\u0438\", \"\\u043e\\u0441\\u0442\\u0430\\u0442\\u044c\\u0441\\u044f\", \"\\u044d\\u043a\\u0437\\u0430\\u043c\\u0435\\u043d\", \"\\u043f\\u0440\\u0438\\u0439\\u0442\\u0438\", \"\\u043a\\u0430\\u043d\\u0438\\u043a\\u0443\\u043b\\u044b\", \"\\u043a\\u0430\\u0436\\u0434\\u044b\\u0439\", \"\\u0442\\u0435\\u043b\\u0435\\u0444\\u043e\\u043d\", \"\\u0432\\u0440\\u0435\\u043c\\u044f\", \"\\u0437\\u0430\\u0432\\u0442\\u0440\\u0430\", \"\\u043c\\u0430\\u043c\\u0430\", \"\\u0447\\u0430\\u0441\", \"\\u043d\\u043e\\u0447\\u044c\", \"\\u043f\\u0440\\u0438\\u0439\\u0442\\u0438\", \"\\u0443\\u043b\\u0438\\u0446\\u0430\", \"\\u0441\\u043d\\u0435\\u0433\", \"\\u043d\\u0440\\u0430\\u0432\\u0438\\u0442\\u044c\\u0441\\u044f\", \"\\u043c\\u0430\\u043b\\u0435\\u043d\\u044c\\u043a\\u0438\\u0439\", \"\\u043f\\u0440\\u0430\\u0432\\u0434\\u0430\", \"\\u043f\\u0440\\u043e\\u0441\\u043d\\u0443\\u0442\\u044c\\u0441\\u044f\", \"\\u0440\\u0430\\u043d\\u043d\\u0438\\u0439\", \"\\u0432\\u044b\\u0439\\u0442\\u0438\", \"\\u043f\\u043e\\u0433\\u043e\\u0434\\u0430\", \"\\u043f\\u043e\\u043b\\u0443\\u0447\\u0438\\u0442\\u044c\\u0441\\u044f\", \"\\u043f\\u0430\\u043f\\u0430\", \"\\u0440\\u0435\\u0431\\u0451\\u043d\\u043e\\u043a\", \"\\u0432\\u0442\\u043e\\u0440\", \"\\u0437\\u0438\\u043c\\u0430\", \"\\u0442\\u0435\\u043c\\u043f\\u0435\\u0440\\u0430\\u0442\\u0443\\u0440\\u0430\", \"\\u043f\\u0435\\u0447\\u0430\\u043b\\u044c\", \"\\u0434\\u0435\\u043d\\u044c\\u0433\\u0430\", \"\\u0441\\u043e\\u0441\\u043a\\u0443\\u0447\\u0438\\u0442\\u044c\\u0441\\u044f\", \"\\u043a\\u043b\\u0430\\u0441\\u0441\", \"\\u0441\\u0435\\u0437\\u043e\\u043d\", \"\\u043d\\u0430\\u0432\\u0435\\u0440\\u043d\\u043e\\u0435\", \"\\u043b\\u0438\\u0448\\u044c\", \"\\u0437\\u0430\\u0439\\u0442\\u0438\", \"\\u043a\\u043d\\u0438\\u0433\\u0430\", \"\\u0434\\u043e\\u0436\\u0434\\u044c\", \"\\u0434\\u043e\\u043c\", \"\\u0440\\u0430\\u0431\\u043e\\u0442\\u0430\", \"\\u0448\\u043a\\u043e\\u043b\\u0430\", \"\\u0433\\u043e\\u0440\\u043e\\u0434\", \"\\u0448\\u0435\\u0440\\u043b\\u043e\\u043a\", \"\\u0434\\u043e\\u043b\\u0433\\u043e\", \"\\u043d\\u0438\\u043a\\u0442\\u043e\", \"\\u0438\\u0434\\u0442\\u0438\", \"\\u0444\\u0438\\u043b\\u044c\\u043c\", \"\\u0443\\u0439\\u0442\\u0438\", \"\\u0443\\u0440\\u043e\\u043a\", \"\\u0431\\u043e\\u043b\\u044c\", \"\\u0441\\u0435\\u0433\\u043e\\u0434\\u043d\\u044f\", \"\\u043c\\u0438\\u043d\\u0443\\u0442\\u0430\", \"\\u0436\\u0430\\u043b\\u043a\\u043e\", \"\\u0431\\u043e\\u043b\\u044c\\u0448\", \"\\u0433\\u043e\\u043b\\u043e\\u0432\\u0430\", \"\\u043d\\u0430\\u0439\\u0442\\u0438\", \"\\u043c\\u0430\\u043b\\u043e\", \"\\u0441\\u043b\\u043e\\u0432\\u043e\", \"\\u0440\\u0443\\u043a\\u0430\", \"\\u0434\\u0440\\u0443\\u0433\", \"\\u0431\\u043e\\u044f\\u0442\\u044c\\u0441\\u044f\", \"\\u0434\\u043e\\u043b\\u0436\\u043d\\u044b\\u0439\", \"\\u0443\\u0436\\u0430\\u0441\", \"\\u043e\\u0441\\u0442\\u0430\\u0442\\u044c\\u0441\\u044f\", \"\\u0441\\u043b\\u0435\\u0437\\u0430\", \"\\u0432\\u043e\\u043f\\u0440\\u043e\\u0441\", \"\\u0438\\u0441\\u0442\\u043e\\u0440\\u0438\\u044f\", \"\\u0441\\u0435\\u0440\\u0438\\u044f\", \"\\u0441\\u043f\\u0430\\u0441\\u0438\\u0431\\u043e\", \"\\u0438\\u043d\\u0442\\u0435\\u0440\\u043d\\u0435\\u0442\", \"\\u0442\\u0432\\u0438\\u0442\", \"\\u0441\\u0435\\u0441\\u0441\\u0438\\u044f\", \"\\u043f\\u044b\\u0442\\u0430\\u0442\\u044c\\u0441\\u044f\", \"\\u0441\\u043e\\u0436\\u0430\\u043b\\u0435\\u043d\\u0438\\u0435\", \"\\u0442\\u0443\\u0434\\u0430\", \"\\u0442\\u0443\\u043f\", \"\\u0434\\u0430\\u043b\\u0451\\u043a\\u0438\\u0439\", \"\\u043c\\u043e\\u043c\\u0435\\u043d\\u0442\", \"\\u043f\\u0440\\u0438\\u0432\\u0435\\u0442\", \"\\u043b\\u0438\\u0431\\u043e\", \"\\u0441\\u0435\\u0440\\u0438\\u0430\\u043b\", \"\\u043a\\u043e\\u043c\\u043f\", \"\\u0433\\u043e\\u0442\\u043e\\u0432\\u044b\\u0439\", \"\\u0436\\u0438\\u0437\\u043d\\u044c\", \"\\u043d\\u043e\\u0432\\u044b\\u0439\", \"\\u043f\\u0440\\u0438\\u0439\\u0442\\u0438\\u0441\\u044c\", \"\\u0444\\u043e\\u0442\\u043a\\u0430\", \"\\u043f\\u0430\\u0440\\u0435\\u043d\\u044c\", \"\\u0441\\u0440\\u0430\\u0437\\u0443\", \"\\u0442\\u0435\\u043b\\u0435\\u0444\\u043e\\u043d\", \"\\u0433\\u043e\\u0434\", \"\\u0441\\u043a\\u043e\\u043b\\u044c\\u043a\\u043e\", \"\\u0447\\u0435\\u043b\\u043e\\u0432\\u0435\\u043a\", \"\\u0445\\u043e\\u0440\\u043e\\u0448\\u0438\\u0439\", \"\\u0434\\u0435\\u043d\\u044c\", \"\\u043d\\u0435\\u0434\\u0435\\u043b\\u044f\", \"\\u0436\\u0430\\u043b\\u044c\", \"\\u043a\\u0430\\u043d\\u0438\\u043a\\u0443\\u043b\\u044b\", \"\\u0437\\u0430\\u043a\\u043e\\u043d\\u0447\\u0438\\u0442\\u044c\\u0441\\u044f\", \"\\u0442\\u0432\\u0438\\u0442\\u0442\\u0435\\u0440\", \"\\u043d\\u0443\\u0436\\u043d\\u044b\\u0439\", \"\\u0443\\u0436\\u0430\\u0441\\u043d\\u044b\\u0439\", \"\\u0443\\u0447\\u0451\\u0431\\u0430\", \"\\u043c\\u0435\\u0441\\u044f\\u0446\", \"\\u0441\\u0442\\u043e\\u043b\\u044c\\u043a\\u043e\", \"\\u0432\\u0440\\u043e\\u0434\\u0435\", \"\\u0441\\u043b\\u0438\\u0448\\u043a\\u043e\\u043c\", \"\\u0431\\u044b\\u0441\\u0442\\u0440\\u043e\", \"\\u0433\\u043b\\u0430\\u0437\", \"\\u043f\\u0440\\u043e\\u0431\\u043b\\u0435\\u043c\\u0430\", \"\\u043c\\u0443\\u0437\\u044b\\u043a\\u0430\", \"\\u0432\\u044b\\u0445\\u043e\\u0434\\u043d\", \"\\u043b\\u044e\\u0431\\u043e\\u0432\\u044c\", \"\\u043b\\u0435\\u043d\\u044c\", \"\\u0446\\u0435\\u043b\\u044b\\u0439\", \"\\u043f\\u043e\\u043b\\u0443\\u0447\\u0430\\u0442\\u044c\\u0441\\u044f\", \"\\u043f\\u043e\\u043d\\u0435\\u0434\\u0435\\u043b\\u044c\\u043d\\u0438\\u043a\", \"\\u043d\\u0435\\u0447\\u0435\\u0433\\u043e\", \"\\u043b\\u0435\\u0442\\u043e\", \"\\u043f\\u043e\\u0436\\u0430\\u043b\\u0443\\u0439\\u0441\\u0442\\u0430\", \"\\u0441\\u0435\\u0440\\u0434\\u0446\\u0435\", \"\\u0431\\u043e\\u043b\\u044c\\u043d\\u0438\\u0446\\u0430\", \"\\u043b\\u0435\\u043d\\u0442\\u0430\", \"\\u043a\\u0430\\u0442\\u043e\\u043a\", \"\\u043f\\u043e\\u0441\\u043b\\u0435\\u0434\\u043d\\u0438\\u0439\", \"\\u044d\\u043a\\u0437\\u0430\\u043c\\u0435\\u043d\", \"\\u043a\\u043e\\u043d\\u0435\\u0446\", \"\\u043f\\u0430\\u0440\\u0430\", \"\\u043a\\u0430\\u0436\\u0434\\u044b\\u0439\", \"\\u043d\\u043e\\u0433\\u0430\", \"\\u0443\\u0442\\u0440\\u043e\", \"\\u0432\\u0440\\u0435\\u043c\\u044f\", \"\\u0434\\u043e\\u0431\\u0440\\u044b\\u0439\", \"\\u0441\\u0435\\u0433\\u043e\\u0434\\u043d\\u044f\", \"\\u043d\\u0430\\u0441\\u0442\\u0440\\u043e\\u0435\\u043d\\u0438\\u0435\", \"\\u0441\\u0430\\u043c\\u044b\\u0439\", \"\\u0445\\u043e\\u0440\\u043e\\u0448\\u0438\\u0439\", \"\\u043b\\u044e\\u0431\\u0438\\u043c\\u044b\\u0439\", \"\\u043f\\u043e\\u043a\\u0430\", \"\\u0441\\u043d\\u043e\\u0432\\u0430\", \"\\u043f\\u0435\\u0440\\u0432\\u044b\\u0439\"], \"Freq\": [9150.0, 7396.0, 5580.0, 4777.0, 4863.0, 6536.0, 4098.0, 4094.0, 9249.0, 3205.0, 3072.0, 2803.0, 2887.0, 3131.0, 3164.0, 2729.0, 2504.0, 2712.0, 2333.0, 2454.0, 3274.0, 2316.0, 2164.0, 2144.0, 2088.0, 2110.0, 1971.0, 2207.0, 1982.0, 4268.0, 7395.704752909713, 2886.466152489637, 2728.6032036781703, 2316.0233951434034, 2109.445639994897, 1747.2013634104512, 1625.2394881933878, 1679.0627621569906, 1452.0386212465305, 1497.5658155702126, 1254.9483744669913, 1387.3062947758456, 1169.809923575806, 1070.4535518660207, 1101.9897529320212, 1066.8419560486786, 1032.4143767103944, 1801.4356336485373, 986.225644861309, 905.9720989865937, 893.7052002701765, 1292.14855521685, 811.5408346005066, 982.2341638060611, 833.5103624018084, 1097.7196893689759, 801.6869598311598, 828.176029830377, 771.8515938217719, 741.4709877102399, 5546.85105871059, 2452.0014121980007, 4816.103224732892, 1279.0954977260442, 862.2088473060544, 1116.1736700370182, 3052.849629064493, 3077.6680895303, 1686.7236335358602, 1237.6044733659387, 2091.1155131309147, 1348.5033348171073, 3735.389642629492, 1242.4021848320767, 1308.0965330334395, 4776.976719455326, 2503.6961187729326, 2163.4108823442434, 1522.4656612420215, 1508.6448566805852, 1652.4162521162032, 3070.802774845607, 1744.287003850091, 1231.0401864289954, 1240.7813593124636, 2142.8105785154926, 1072.8487817016194, 1007.1576157065514, 1032.84613153061, 1039.7796409897837, 1541.337276937793, 1033.4716637552112, 1318.0019339183375, 919.6007312542441, 993.5129680703596, 774.6729034572313, 812.982288969324, 766.9986083650216, 751.0895702337051, 1273.9336632680324, 712.7057219802807, 703.0343226063304, 963.3288913561298, 662.1369896039637, 679.6577675567602, 4092.4550885723233, 4086.273438112878, 1824.7457472588233, 1494.005752919264, 1453.1607359248437, 1110.0615084337505, 1954.7206317436064, 2648.596771624133, 1070.9606596869721, 5842.683857601363, 1784.852813812902, 9149.537214685703, 2332.5288327068756, 3203.9317438783887, 1970.6749617699973, 1660.9117425137474, 1511.1047143042954, 1492.651252799637, 1471.416203759675, 1413.2517019274092, 1331.5188053216866, 1297.2968495843174, 1654.123888791838, 1076.556873278232, 1020.7352446996298, 1336.8284362673396, 1092.8590207288496, 1035.6641962727892, 1280.663929051145, 967.4918751670886, 971.9563590295617, 938.132541546762, 1000.3489295739698, 956.7685951732375, 961.1548412818566, 1001.2237801023806, 898.3520624103976, 890.6181259357589, 877.993545225935, 1199.5081759906866, 832.8566942508559, 2800.3466620727695, 2079.470947546972, 1328.8612997255186, 1315.2319019033384, 2127.099132957634, 1245.664079314138, 2924.0432410393432, 3371.309648959481, 1054.165631643708, 5511.437273437846, 2148.236104584097, 2007.0100093922608, 2292.716352311593, 1604.980603497444, 1496.6866619891111, 1178.4624443808957, 1183.1605206202053], \"Total\": [9150.0, 7396.0, 5580.0, 4777.0, 4863.0, 6536.0, 4098.0, 4094.0, 9249.0, 3205.0, 3072.0, 2803.0, 2887.0, 3131.0, 3164.0, 2729.0, 2504.0, 2712.0, 2333.0, 2454.0, 3274.0, 2316.0, 2164.0, 2144.0, 2088.0, 2110.0, 1971.0, 2207.0, 1982.0, 4268.0, 7396.951673737751, 2887.344452913684, 2729.46927081919, 2316.8473468312136, 2110.243100699173, 1747.9686504957917, 1626.0139189653057, 1679.9695313810676, 1452.8607029860395, 1498.4491636322934, 1255.755808286546, 1388.2517177384163, 1170.6286339036114, 1071.2278631192294, 1102.7989002991878, 1067.6450495316494, 1033.2369497872724, 1802.8712523360734, 987.0333237547787, 906.7848146806011, 894.5150271822431, 1293.386155692464, 812.3311189850566, 983.2002202623574, 834.3641359632817, 1098.8577701377917, 802.5188146933868, 829.0485637192751, 772.6702941258363, 742.2635712509096, 5580.9863846105545, 2454.954793354856, 4863.564812782238, 1280.4969947594154, 863.1716463664609, 1121.207811672718, 3131.758397491777, 3164.2899599324146, 1727.957350840417, 1260.115999890608, 2457.2056616919695, 1521.1589524222452, 9249.071573300422, 1408.4916845733367, 1725.045912699063, 4777.873636090273, 2504.4987399765173, 2164.1657546833217, 1523.2381129331927, 1509.4113379208266, 1653.318365325665, 3072.6292222227135, 1745.3407990343437, 1231.8239421042701, 1241.6681958636248, 2144.371799159041, 1073.641422036101, 1007.9229283866501, 1033.636095455203, 1040.5821229583983, 1542.5664251681237, 1034.328669359801, 1319.1219156391537, 920.4121491110861, 994.4375678033683, 775.4252235425481, 813.7895113897766, 767.7643957078318, 751.8519458758516, 1275.2459439189956, 713.4592418631055, 703.8021883414484, 964.4018601180463, 662.9001574195992, 680.4768164440218, 4098.58737413059, 4094.9675886641503, 1832.107731523218, 1497.5973790882113, 1456.7783734064944, 1111.5154307524006, 1982.715227838903, 2712.1102556974392, 1078.9227433408382, 6536.00202078483, 4848.004115648828, 9150.311265306735, 2333.318048738509, 3205.1435339741283, 1971.4336059671189, 1661.6931745210984, 1511.8949942214692, 1493.4394824114606, 1472.225205836882, 1414.037884202156, 1332.3153207353273, 1298.1960204135396, 1655.2810384487793, 1077.3457722046871, 1021.4843501720316, 1337.8188587231816, 1093.7162019070377, 1036.4780278332269, 1281.6741171410376, 968.261177155738, 972.7339438426585, 938.8846215658698, 1001.1527582633049, 957.5611713935285, 961.9610303939083, 1002.0833851227131, 899.1247867552256, 891.3948163823876, 878.7727572161061, 1200.5852399399657, 833.6462911867027, 2803.798155339348, 2088.5697607724437, 1330.6233606788028, 1320.716780419141, 2207.846938697001, 1263.348568615941, 3274.56160399569, 4268.381183954974, 1072.5384014775066, 9249.071573300422, 2833.8172266546217, 3377.2967417702166, 4848.004115648828, 2427.666087112432, 2308.0146966140546, 2021.4885957095673, 2567.684402635171], \"Category\": [\"Default\", \"Default\", \"Default\", \"Default\", \"Default\", \"Default\", \"Default\", \"Default\", \"Default\", \"Default\", \"Default\", \"Default\", \"Default\", \"Default\", \"Default\", \"Default\", \"Default\", \"Default\", \"Default\", \"Default\", \"Default\", \"Default\", \"Default\", \"Default\", \"Default\", \"Default\", \"Default\", \"Default\", \"Default\", \"Default\", \"Topic1\", \"Topic1\", \"Topic1\", \"Topic1\", \"Topic1\", \"Topic1\", \"Topic1\", \"Topic1\", \"Topic1\", \"Topic1\", \"Topic1\", \"Topic1\", \"Topic1\", \"Topic1\", \"Topic1\", \"Topic1\", \"Topic1\", \"Topic1\", \"Topic1\", \"Topic1\", \"Topic1\", \"Topic1\", \"Topic1\", \"Topic1\", \"Topic1\", \"Topic1\", \"Topic1\", \"Topic1\", \"Topic1\", \"Topic1\", \"Topic1\", \"Topic1\", \"Topic1\", \"Topic1\", \"Topic1\", \"Topic1\", \"Topic1\", \"Topic1\", \"Topic1\", \"Topic1\", \"Topic1\", \"Topic1\", \"Topic1\", \"Topic1\", \"Topic1\", \"Topic2\", \"Topic2\", \"Topic2\", \"Topic2\", \"Topic2\", \"Topic2\", \"Topic2\", \"Topic2\", \"Topic2\", \"Topic2\", \"Topic2\", \"Topic2\", \"Topic2\", \"Topic2\", \"Topic2\", \"Topic2\", \"Topic2\", \"Topic2\", \"Topic2\", \"Topic2\", \"Topic2\", \"Topic2\", \"Topic2\", \"Topic2\", \"Topic2\", \"Topic2\", \"Topic2\", \"Topic2\", \"Topic2\", \"Topic2\", \"Topic2\", \"Topic2\", \"Topic2\", \"Topic2\", \"Topic2\", \"Topic2\", \"Topic2\", \"Topic2\", \"Topic2\", \"Topic2\", \"Topic2\", \"Topic3\", \"Topic3\", \"Topic3\", \"Topic3\", \"Topic3\", \"Topic3\", \"Topic3\", \"Topic3\", \"Topic3\", \"Topic3\", \"Topic3\", \"Topic3\", \"Topic3\", \"Topic3\", \"Topic3\", \"Topic3\", \"Topic3\", \"Topic3\", \"Topic3\", \"Topic3\", \"Topic3\", \"Topic3\", \"Topic3\", \"Topic3\", \"Topic3\", \"Topic3\", \"Topic3\", \"Topic3\", \"Topic3\", \"Topic3\", \"Topic3\", \"Topic3\", \"Topic3\", \"Topic3\", \"Topic3\", \"Topic3\", \"Topic3\", \"Topic3\", \"Topic3\", \"Topic3\", \"Topic3\", \"Topic3\", \"Topic3\", \"Topic3\", \"Topic3\", \"Topic3\", \"Topic3\"], \"logprob\": [30.0, 29.0, 28.0, 27.0, 26.0, 25.0, 24.0, 23.0, 22.0, 21.0, 20.0, 19.0, 18.0, 17.0, 16.0, 15.0, 14.0, 13.0, 12.0, 11.0, 10.0, 9.0, 8.0, 7.0, 6.0, 5.0, 4.0, 3.0, 2.0, 1.0, -3.5347, -4.4755, -4.5318, -4.6957, -4.7891, -4.9775, -5.0499, -5.0173, -5.1626, -5.1317, -5.3085, -5.2082, -5.3787, -5.4675, -5.4384, -5.4709, -5.5037, -4.947, -5.5494, -5.6343, -5.6479, -5.2793, -5.7444, -5.5535, -5.7177, -5.4423, -5.7566, -5.7241, -5.7945, -5.8347, -3.8223, -4.6387, -3.9636, -5.2894, -5.6838, -5.4257, -4.4195, -4.4114, -5.0128, -5.3224, -4.7979, -5.2366, -4.2177, -5.3185, -5.267, -3.9278, -4.5739, -4.7199, -5.0713, -5.0804, -4.9894, -4.3697, -4.9353, -5.2838, -5.2759, -4.7295, -5.4213, -5.4845, -5.4593, -5.4526, -5.059, -5.4587, -5.2155, -5.5754, -5.4981, -5.7469, -5.6987, -5.7569, -5.7779, -5.2495, -5.8303, -5.844, -5.529, -5.9039, -5.8778, -4.0825, -4.084, -4.8902, -5.0902, -5.1179, -5.3872, -4.8214, -4.5176, -5.4231, -3.7264, -4.9123, -3.2699, -4.6366, -4.3192, -4.8052, -4.9762, -5.0707, -5.083, -5.0974, -5.1377, -5.1973, -5.2233, -4.9803, -5.4098, -5.4631, -5.1933, -5.3948, -5.4485, -5.2362, -5.5166, -5.512, -5.5474, -5.4832, -5.5278, -5.5232, -5.4824, -5.5908, -5.5994, -5.6137, -5.3017, -5.6665, -4.4538, -4.7515, -5.1993, -5.2096, -4.7288, -5.2639, -4.4106, -4.2683, -5.4308, -3.7768, -4.7189, -4.7869, -4.6538, -5.0105, -5.0803, -5.3194, -5.3154], \"loglift\": [30.0, 29.0, 28.0, 27.0, 26.0, 25.0, 24.0, 23.0, 22.0, 21.0, 20.0, 19.0, 18.0, 17.0, 16.0, 15.0, 14.0, 13.0, 12.0, 11.0, 10.0, 9.0, 8.0, 7.0, 6.0, 5.0, 4.0, 3.0, 2.0, 1.0, 1.0667, 1.0666, 1.0666, 1.0665, 1.0665, 1.0665, 1.0664, 1.0664, 1.0663, 1.0663, 1.0663, 1.0662, 1.0662, 1.0662, 1.0662, 1.0662, 1.0661, 1.0661, 1.0661, 1.066, 1.066, 1.0659, 1.0659, 1.0659, 1.0659, 1.0659, 1.0659, 1.0659, 1.0658, 1.0658, 1.0608, 1.0657, 1.0571, 1.0658, 1.0658, 1.0624, 1.0414, 1.0391, 1.0428, 1.0489, 0.9056, 0.9464, 0.1602, 0.9414, 0.7902, 1.1107, 1.1105, 1.1105, 1.1103, 1.1103, 1.1103, 1.1102, 1.1102, 1.1102, 1.1101, 1.1101, 1.1101, 1.1101, 1.1101, 1.1101, 1.11, 1.11, 1.11, 1.11, 1.1099, 1.1099, 1.1098, 1.1098, 1.1098, 1.1098, 1.1098, 1.1097, 1.1097, 1.1097, 1.1096, 1.1093, 1.1087, 1.1068, 1.1084, 1.1084, 1.1095, 1.0966, 1.0871, 1.1034, 0.9987, 0.1116, 1.1188, 1.1185, 1.1185, 1.1185, 1.1184, 1.1184, 1.1184, 1.1183, 1.1183, 1.1183, 1.1182, 1.1182, 1.1181, 1.1181, 1.1181, 1.1181, 1.1181, 1.1181, 1.1181, 1.1181, 1.1181, 1.1181, 1.1181, 1.118, 1.118, 1.118, 1.118, 1.118, 1.118, 1.1179, 1.1176, 1.1145, 1.1176, 1.1147, 1.0816, 1.1048, 1.0057, 0.8829, 1.1016, 0.6012, 0.8419, 0.5985, 0.3701, 0.7051, 0.6857, 0.5793, 0.3441]}, \"token.table\": {\"Topic\": [1, 2, 3, 2, 3, 2, 3, 3, 2, 1, 2, 3, 1, 3, 1, 3, 1, 1, 3, 1, 3, 2, 3, 2, 1, 2, 3, 2, 2, 3, 1, 2, 1, 3, 1, 1, 2, 2, 1, 3, 1, 2, 3, 1, 2, 1, 3, 2, 3, 1, 3, 1, 3, 1, 1, 2, 3, 2, 2, 1, 2, 3, 3, 3, 1, 3, 1, 2, 2, 3, 2, 3, 3, 3, 2, 1, 1, 2, 3, 3, 1, 2, 1, 3, 1, 2, 3, 2, 3, 3, 1, 2, 2, 2, 3, 3, 3, 1, 2, 3, 1, 2, 3, 1, 3, 1, 1, 2, 3, 1, 2, 3, 1, 1, 2, 3, 1, 2, 3, 1, 2, 3, 1, 1, 3, 1, 2, 3, 3, 1, 3, 1, 2, 3, 1, 2, 1, 2, 3, 3, 1, 2, 3, 1, 3, 1, 2, 1, 2, 3, 1, 2, 3, 1, 2, 3, 1, 3, 2, 3, 2, 2, 2, 3, 2, 3, 2, 1, 1, 2, 3, 2, 1, 1, 2, 3, 2, 3, 3, 2, 3, 3, 1, 2, 1, 2, 2, 2, 3, 1, 2, 1, 1, 2, 3, 1, 2, 3, 3, 1, 2, 3, 1, 2, 1, 2, 3, 3, 1, 1, 2, 3, 1, 2, 1, 3, 1, 2, 3], \"Freq\": [0.8868238245923579, 0.11307168111926283, 0.9991206404502636, 0.9998171496031888, 0.00020929812635612073, 0.9992317838240614, 0.0005729540044862737, 0.9995258369137521, 0.9990843264294746, 0.1372885819576749, 0.07286134639733259, 0.7897607675415054, 0.0006041270193834482, 0.9992260900602233, 0.9989620710110892, 0.0005546707779073232, 0.9994629945950364, 0.0007802295346578793, 0.9994740338967433, 0.0007474853516076182, 0.9993879150993856, 0.976730202776653, 0.02322914412039605, 0.9998008623567837, 0.9988309267686358, 0.0007809467762069085, 0.0007809467762069085, 0.9992992906848561, 0.9988668701590455, 0.9999659830908797, 0.9989282739061623, 0.0007731642986889801, 0.016782615872031784, 0.9827153960623056, 0.998297678479923, 0.9953551771415609, 0.004459476600096599, 0.9993311202387716, 0.993910326550111, 0.006092113052587665, 0.0003254541722012943, 0.9994697628301749, 0.0003254541722012943, 0.7582406881875166, 0.24173269646345136, 0.00031199850783595885, 0.9996432191064122, 0.9983927696229759, 0.0014639190170424865, 0.9998713424421671, 0.0001351908251003471, 0.9987352203897791, 0.9995828504734046, 0.9989531014506705, 0.9727300718249419, 0.0018961599840642141, 0.02559815978486689, 0.9987154282781087, 0.9993846040613327, 0.012682038554957385, 0.024005287264740764, 0.96338200022837, 0.9997800555058987, 0.9992247417237559, 0.9987792717722976, 0.0010170868347986737, 0.9991324965759235, 0.998642092011106, 0.0007515274641577472, 0.9987799998656459, 0.0008329271148211052, 0.9995125377853262, 0.9992454834671861, 0.9989188672930841, 0.9988602076624132, 0.9993535170965617, 0.32294391891947655, 0.01565289402926034, 0.6611288136042854, 0.9986974824711627, 0.9994075805173404, 0.9991871835908777, 0.9995343635178936, 0.9997633287477673, 0.8817943432702829, 0.11501665347003691, 0.002839917369630541, 0.9990229775480276, 0.0007841624627535538, 0.9995387959798567, 0.9992193983961326, 0.0009100358819636909, 0.999461337616678, 0.24172342293530916, 0.7579881933796264, 0.9998636925048942, 0.999000967436784, 0.9748517007075468, 0.0006386188671520123, 0.024267516951776466, 0.0002442021770253418, 0.9978100953255468, 0.0017094152391773929, 0.01345630210245484, 0.98626778939169, 0.9996342673019124, 0.9994228875209001, 0.0005952488907212032, 0.999705724659997, 0.00046633704117549497, 0.9993602792390858, 0.00046633704117549497, 0.9993958202382596, 0.002271493816447099, 0.002271493816447099, 0.9956714562093117, 0.0013728924292878192, 0.9974063498776007, 0.0013728924292878192, 0.32675355239878723, 0.21264295543472922, 0.46072640344191335, 0.9994242386470963, 0.9988537797031772, 0.9987490204120779, 0.3513842442986901, 0.00043327280431404447, 0.6486093880581245, 0.9988485690582278, 0.9992755702794307, 0.9994139576558729, 0.00035665905482378364, 0.001069977164471351, 0.9986453535065942, 0.9997002476672584, 0.9993563166104539, 0.9994109206191643, 0.9961204620225533, 0.0038207360187166427, 0.9993451665927698, 0.9993981247934045, 0.9995599846410319, 0.001005593545916531, 0.9987963960220961, 0.0012220184290645548, 0.9990983495842847, 0.0007203304611278188, 0.9988028401544031, 0.9992025943984447, 0.0006048441854712135, 0.13442703875704892, 0.2712228359062926, 0.594262261641844, 0.40382431581370165, 0.00021623792011443195, 0.5958435888753172, 0.9995635766836247, 0.9995570802352319, 0.9985463942200664, 0.0010369121435307024, 0.9994405795126066, 0.9995522124393033, 0.9926568019909324, 0.0064879529541891, 0.9994025733145759, 0.9996790517829949, 0.9997274845428198, 0.9993764389385111, 0.1978739829890532, 0.21914543616037643, 0.5827388799027617, 0.9994516253409897, 0.9995923842170785, 0.0006482703005097562, 0.9989845330855344, 0.0006482703005097562, 0.9986366084442257, 0.0008996726202200232, 0.9990787058389237, 0.9991494981427778, 0.0007580800441143988, 0.999408031493662, 0.014122048192729681, 0.9860215791709475, 0.9991345083553504, 0.9990298334167169, 0.9990043876583687, 0.9994618563430627, 0.99916778640114, 0.9824492349176362, 0.017458710152009692, 0.9994458421805694, 0.8509666213939091, 0.002441798052780227, 0.14650788316681362, 0.10688453671872367, 0.0003053843906249248, 0.89294395818728, 0.9992660138644436, 0.9762972443616755, 0.023727437474113038, 0.0005787179871734888, 0.0020032086339697676, 0.9975978997169443, 0.1588282480030337, 0.36819275673430535, 0.47297814632591717, 0.9990577952332477, 0.9998280725032492, 0.007802935164006577, 0.8939715718292242, 0.09822518382925927, 0.998642626444702, 0.0011585181281261044, 0.990220174992378, 0.00966369356823957, 0.0014363896559004426, 0.0028727793118008852, 0.9954180315390067], \"Term\": [\"\\u0431\\u043e\\u043b\\u044c\", \"\\u0431\\u043e\\u043b\\u044c\", \"\\u0431\\u043e\\u043b\\u044c\\u043d\\u0438\\u0446\\u0430\", \"\\u0431\\u043e\\u043b\\u044c\\u0448\", \"\\u0431\\u043e\\u043b\\u044c\\u0448\", \"\\u0431\\u043e\\u044f\\u0442\\u044c\\u0441\\u044f\", \"\\u0431\\u043e\\u044f\\u0442\\u044c\\u0441\\u044f\", \"\\u0431\\u044b\\u0441\\u0442\\u0440\\u043e\", \"\\u0432\\u043e\\u043f\\u0440\\u043e\\u0441\", \"\\u0432\\u0440\\u0435\\u043c\\u044f\", \"\\u0432\\u0440\\u0435\\u043c\\u044f\", \"\\u0432\\u0440\\u0435\\u043c\\u044f\", \"\\u0432\\u0440\\u043e\\u0434\\u0435\", \"\\u0432\\u0440\\u043e\\u0434\\u0435\", \"\\u0432\\u0442\\u043e\\u0440\", \"\\u0432\\u0442\\u043e\\u0440\", \"\\u0432\\u044b\\u0439\\u0442\\u0438\", \"\\u0432\\u044b\\u0445\\u043e\\u0434\\u043d\", \"\\u0432\\u044b\\u0445\\u043e\\u0434\\u043d\", \"\\u0433\\u043b\\u0430\\u0437\", \"\\u0433\\u043b\\u0430\\u0437\", \"\\u0433\\u043e\\u0434\", \"\\u0433\\u043e\\u0434\", \"\\u0433\\u043e\\u043b\\u043e\\u0432\\u0430\", \"\\u0433\\u043e\\u0440\\u043e\\u0434\", \"\\u0433\\u043e\\u0440\\u043e\\u0434\", \"\\u0433\\u043e\\u0440\\u043e\\u0434\", \"\\u0433\\u043e\\u0442\\u043e\\u0432\\u044b\\u0439\", \"\\u0434\\u0430\\u043b\\u0451\\u043a\\u0438\\u0439\", \"\\u0434\\u0435\\u043d\\u044c\", \"\\u0434\\u0435\\u043d\\u044c\\u0433\\u0430\", \"\\u0434\\u0435\\u043d\\u044c\\u0433\\u0430\", \"\\u0434\\u043e\\u0431\\u0440\\u044b\\u0439\", \"\\u0434\\u043e\\u0431\\u0440\\u044b\\u0439\", \"\\u0434\\u043e\\u0436\\u0434\\u044c\", \"\\u0434\\u043e\\u043b\\u0433\\u043e\", \"\\u0434\\u043e\\u043b\\u0433\\u043e\", \"\\u0434\\u043e\\u043b\\u0436\\u043d\\u044b\\u0439\", \"\\u0434\\u043e\\u043c\", \"\\u0434\\u043e\\u043c\", \"\\u0434\\u0440\\u0443\\u0433\", \"\\u0434\\u0440\\u0443\\u0433\", \"\\u0434\\u0440\\u0443\\u0433\", \"\\u0436\\u0430\\u043b\\u043a\\u043e\", \"\\u0436\\u0430\\u043b\\u043a\\u043e\", \"\\u0436\\u0430\\u043b\\u044c\", \"\\u0436\\u0430\\u043b\\u044c\", \"\\u0436\\u0438\\u0437\\u043d\\u044c\", \"\\u0436\\u0438\\u0437\\u043d\\u044c\", \"\\u0437\\u0430\\u0432\\u0442\\u0440\\u0430\", \"\\u0437\\u0430\\u0432\\u0442\\u0440\\u0430\", \"\\u0437\\u0430\\u0439\\u0442\\u0438\", \"\\u0437\\u0430\\u043a\\u043e\\u043d\\u0447\\u0438\\u0442\\u044c\\u0441\\u044f\", \"\\u0437\\u0438\\u043c\\u0430\", \"\\u0438\\u0434\\u0442\\u0438\", \"\\u0438\\u0434\\u0442\\u0438\", \"\\u0438\\u0434\\u0442\\u0438\", \"\\u0438\\u043d\\u0442\\u0435\\u0440\\u043d\\u0435\\u0442\", \"\\u0438\\u0441\\u0442\\u043e\\u0440\\u0438\\u044f\", \"\\u043a\\u0430\\u0436\\u0434\\u044b\\u0439\", \"\\u043a\\u0430\\u0436\\u0434\\u044b\\u0439\", \"\\u043a\\u0430\\u0436\\u0434\\u044b\\u0439\", \"\\u043a\\u0430\\u043d\\u0438\\u043a\\u0443\\u043b\\u044b\", \"\\u043a\\u0430\\u0442\\u043e\\u043a\", \"\\u043a\\u043b\\u0430\\u0441\\u0441\", \"\\u043a\\u043b\\u0430\\u0441\\u0441\", \"\\u043a\\u043d\\u0438\\u0433\\u0430\", \"\\u043a\\u043e\\u043c\\u043f\", \"\\u043a\\u043e\\u043d\\u0435\\u0446\", \"\\u043a\\u043e\\u043d\\u0435\\u0446\", \"\\u043b\\u0435\\u043d\\u0442\\u0430\", \"\\u043b\\u0435\\u043d\\u0442\\u0430\", \"\\u043b\\u0435\\u043d\\u044c\", \"\\u043b\\u0435\\u0442\\u043e\", \"\\u043b\\u0438\\u0431\\u043e\", \"\\u043b\\u0438\\u0448\\u044c\", \"\\u043b\\u044e\\u0431\\u0438\\u043c\\u044b\\u0439\", \"\\u043b\\u044e\\u0431\\u0438\\u043c\\u044b\\u0439\", \"\\u043b\\u044e\\u0431\\u0438\\u043c\\u044b\\u0439\", \"\\u043b\\u044e\\u0431\\u043e\\u0432\\u044c\", \"\\u043c\\u0430\\u043b\\u0435\\u043d\\u044c\\u043a\\u0438\\u0439\", \"\\u043c\\u0430\\u043b\\u043e\", \"\\u043c\\u0430\\u043c\\u0430\", \"\\u043c\\u0435\\u0441\\u044f\\u0446\", \"\\u043c\\u0438\\u043d\\u0443\\u0442\\u0430\", \"\\u043c\\u0438\\u043d\\u0443\\u0442\\u0430\", \"\\u043c\\u0438\\u043d\\u0443\\u0442\\u0430\", \"\\u043c\\u043e\\u043c\\u0435\\u043d\\u0442\", \"\\u043c\\u043e\\u043c\\u0435\\u043d\\u0442\", \"\\u043c\\u0443\\u0437\\u044b\\u043a\\u0430\", \"\\u043d\\u0430\\u0432\\u0435\\u0440\\u043d\\u043e\\u0435\", \"\\u043d\\u0430\\u0432\\u0435\\u0440\\u043d\\u043e\\u0435\", \"\\u043d\\u0430\\u0439\\u0442\\u0438\", \"\\u043d\\u0430\\u0441\\u0442\\u0440\\u043e\\u0435\\u043d\\u0438\\u0435\", \"\\u043d\\u0430\\u0441\\u0442\\u0440\\u043e\\u0435\\u043d\\u0438\\u0435\", \"\\u043d\\u0435\\u0434\\u0435\\u043b\\u044f\", \"\\u043d\\u0435\\u0447\\u0435\\u0433\\u043e\", \"\\u043d\\u0438\\u043a\\u0442\\u043e\", \"\\u043d\\u0438\\u043a\\u0442\\u043e\", \"\\u043d\\u0438\\u043a\\u0442\\u043e\", \"\\u043d\\u043e\\u0432\\u044b\\u0439\", \"\\u043d\\u043e\\u0432\\u044b\\u0439\", \"\\u043d\\u043e\\u0432\\u044b\\u0439\", \"\\u043d\\u043e\\u0433\\u0430\", \"\\u043d\\u043e\\u0433\\u0430\", \"\\u043d\\u043e\\u0447\\u044c\", \"\\u043d\\u0440\\u0430\\u0432\\u0438\\u0442\\u044c\\u0441\\u044f\", \"\\u043d\\u0440\\u0430\\u0432\\u0438\\u0442\\u044c\\u0441\\u044f\", \"\\u043d\\u0443\\u0436\\u043d\\u044b\\u0439\", \"\\u043e\\u0441\\u0442\\u0430\\u0442\\u044c\\u0441\\u044f\", \"\\u043e\\u0441\\u0442\\u0430\\u0442\\u044c\\u0441\\u044f\", \"\\u043e\\u0441\\u0442\\u0430\\u0442\\u044c\\u0441\\u044f\", \"\\u043f\\u0430\\u043f\\u0430\", \"\\u043f\\u0430\\u0440\\u0430\", \"\\u043f\\u0430\\u0440\\u0430\", \"\\u043f\\u0430\\u0440\\u0430\", \"\\u043f\\u0430\\u0440\\u0435\\u043d\\u044c\", \"\\u043f\\u0430\\u0440\\u0435\\u043d\\u044c\", \"\\u043f\\u0430\\u0440\\u0435\\u043d\\u044c\", \"\\u043f\\u0435\\u0440\\u0432\\u044b\\u0439\", \"\\u043f\\u0435\\u0440\\u0432\\u044b\\u0439\", \"\\u043f\\u0435\\u0440\\u0432\\u044b\\u0439\", \"\\u043f\\u0435\\u0447\\u0430\\u043b\\u044c\", \"\\u043f\\u043e\\u0433\\u043e\\u0434\\u0430\", \"\\u043f\\u043e\\u0436\\u0430\\u043b\\u0443\\u0439\\u0441\\u0442\\u0430\", \"\\u043f\\u043e\\u043a\\u0430\", \"\\u043f\\u043e\\u043a\\u0430\", \"\\u043f\\u043e\\u043a\\u0430\", \"\\u043f\\u043e\\u043b\\u0443\\u0447\\u0430\\u0442\\u044c\\u0441\\u044f\", \"\\u043f\\u043e\\u043b\\u0443\\u0447\\u0438\\u0442\\u044c\\u0441\\u044f\", \"\\u043f\\u043e\\u043d\\u0435\\u0434\\u0435\\u043b\\u044c\\u043d\\u0438\\u043a\", \"\\u043f\\u043e\\u0441\\u043b\\u0435\\u0434\\u043d\\u0438\\u0439\", \"\\u043f\\u043e\\u0441\\u043b\\u0435\\u0434\\u043d\\u0438\\u0439\", \"\\u043f\\u043e\\u0441\\u043b\\u0435\\u0434\\u043d\\u0438\\u0439\", \"\\u043f\\u0440\\u0430\\u0432\\u0434\\u0430\", \"\\u043f\\u0440\\u0438\\u0432\\u0435\\u0442\", \"\\u043f\\u0440\\u0438\\u0439\\u0442\\u0438\", \"\\u043f\\u0440\\u0438\\u0439\\u0442\\u0438\\u0441\\u044c\", \"\\u043f\\u0440\\u0438\\u0439\\u0442\\u0438\\u0441\\u044c\", \"\\u043f\\u0440\\u043e\\u0431\\u043b\\u0435\\u043c\\u0430\", \"\\u043f\\u0440\\u043e\\u0441\\u043d\\u0443\\u0442\\u044c\\u0441\\u044f\", \"\\u043f\\u044b\\u0442\\u0430\\u0442\\u044c\\u0441\\u044f\", \"\\u043f\\u044b\\u0442\\u0430\\u0442\\u044c\\u0441\\u044f\", \"\\u0440\\u0430\\u0431\\u043e\\u0442\\u0430\", \"\\u0440\\u0430\\u0431\\u043e\\u0442\\u0430\", \"\\u0440\\u0430\\u043d\\u043d\\u0438\\u0439\", \"\\u0440\\u0430\\u043d\\u043d\\u0438\\u0439\", \"\\u0440\\u0435\\u0431\\u0451\\u043d\\u043e\\u043a\", \"\\u0440\\u0443\\u043a\\u0430\", \"\\u0440\\u0443\\u043a\\u0430\", \"\\u0441\\u0430\\u043c\\u044b\\u0439\", \"\\u0441\\u0430\\u043c\\u044b\\u0439\", \"\\u0441\\u0430\\u043c\\u044b\\u0439\", \"\\u0441\\u0435\\u0433\\u043e\\u0434\\u043d\\u044f\", \"\\u0441\\u0435\\u0433\\u043e\\u0434\\u043d\\u044f\", \"\\u0441\\u0435\\u0433\\u043e\\u0434\\u043d\\u044f\", \"\\u0441\\u0435\\u0437\\u043e\\u043d\", \"\\u0441\\u0435\\u0440\\u0434\\u0446\\u0435\", \"\\u0441\\u0435\\u0440\\u0438\\u0430\\u043b\", \"\\u0441\\u0435\\u0440\\u0438\\u0430\\u043b\", \"\\u0441\\u0435\\u0440\\u0438\\u044f\", \"\\u0441\\u0435\\u0441\\u0441\\u0438\\u044f\", \"\\u0441\\u043a\\u043e\\u043b\\u044c\\u043a\\u043e\", \"\\u0441\\u043a\\u043e\\u043b\\u044c\\u043a\\u043e\", \"\\u0441\\u043b\\u0435\\u0437\\u0430\", \"\\u0441\\u043b\\u0438\\u0448\\u043a\\u043e\\u043c\", \"\\u0441\\u043b\\u043e\\u0432\\u043e\", \"\\u0441\\u043d\\u0435\\u0433\", \"\\u0441\\u043d\\u043e\\u0432\\u0430\", \"\\u0441\\u043d\\u043e\\u0432\\u0430\", \"\\u0441\\u043d\\u043e\\u0432\\u0430\", \"\\u0441\\u043e\\u0436\\u0430\\u043b\\u0435\\u043d\\u0438\\u0435\", \"\\u0441\\u043e\\u0441\\u043a\\u0443\\u0447\\u0438\\u0442\\u044c\\u0441\\u044f\", \"\\u0441\\u043f\\u0430\\u0441\\u0438\\u0431\\u043e\", \"\\u0441\\u043f\\u0430\\u0441\\u0438\\u0431\\u043e\", \"\\u0441\\u043f\\u0430\\u0441\\u0438\\u0431\\u043e\", \"\\u0441\\u0440\\u0430\\u0437\\u0443\", \"\\u0441\\u0440\\u0430\\u0437\\u0443\", \"\\u0441\\u0442\\u043e\\u043b\\u044c\\u043a\\u043e\", \"\\u0442\\u0432\\u0438\\u0442\", \"\\u0442\\u0432\\u0438\\u0442\", \"\\u0442\\u0432\\u0438\\u0442\\u0442\\u0435\\u0440\", \"\\u0442\\u0435\\u043b\\u0435\\u0444\\u043e\\u043d\", \"\\u0442\\u0435\\u043b\\u0435\\u0444\\u043e\\u043d\", \"\\u0442\\u0435\\u043c\\u043f\\u0435\\u0440\\u0430\\u0442\\u0443\\u0440\\u0430\", \"\\u0442\\u0443\\u0434\\u0430\", \"\\u0442\\u0443\\u043f\", \"\\u0443\\u0436\\u0430\\u0441\", \"\\u0443\\u0436\\u0430\\u0441\\u043d\\u044b\\u0439\", \"\\u0443\\u0439\\u0442\\u0438\", \"\\u0443\\u0439\\u0442\\u0438\", \"\\u0443\\u043b\\u0438\\u0446\\u0430\", \"\\u0443\\u0440\\u043e\\u043a\", \"\\u0443\\u0440\\u043e\\u043a\", \"\\u0443\\u0440\\u043e\\u043a\", \"\\u0443\\u0442\\u0440\\u043e\", \"\\u0443\\u0442\\u0440\\u043e\", \"\\u0443\\u0442\\u0440\\u043e\", \"\\u0443\\u0447\\u0451\\u0431\\u0430\", \"\\u0444\\u0438\\u043b\\u044c\\u043c\", \"\\u0444\\u0438\\u043b\\u044c\\u043c\", \"\\u0444\\u0438\\u043b\\u044c\\u043c\", \"\\u0444\\u043e\\u0442\\u043a\\u0430\", \"\\u0444\\u043e\\u0442\\u043a\\u0430\", \"\\u0445\\u043e\\u0440\\u043e\\u0448\\u0438\\u0439\", \"\\u0445\\u043e\\u0440\\u043e\\u0448\\u0438\\u0439\", \"\\u0445\\u043e\\u0440\\u043e\\u0448\\u0438\\u0439\", \"\\u0446\\u0435\\u043b\\u044b\\u0439\", \"\\u0447\\u0430\\u0441\", \"\\u0447\\u0435\\u043b\\u043e\\u0432\\u0435\\u043a\", \"\\u0447\\u0435\\u043b\\u043e\\u0432\\u0435\\u043a\", \"\\u0447\\u0435\\u043b\\u043e\\u0432\\u0435\\u043a\", \"\\u0448\\u0435\\u0440\\u043b\\u043e\\u043a\", \"\\u0448\\u0435\\u0440\\u043b\\u043e\\u043a\", \"\\u0448\\u043a\\u043e\\u043b\\u0430\", \"\\u0448\\u043a\\u043e\\u043b\\u0430\", \"\\u044d\\u043a\\u0437\\u0430\\u043c\\u0435\\u043d\", \"\\u044d\\u043a\\u0437\\u0430\\u043c\\u0435\\u043d\", \"\\u044d\\u043a\\u0437\\u0430\\u043c\\u0435\\u043d\"]}, \"R\": 30, \"lambda.step\": 0.01, \"plot.opts\": {\"xlab\": \"PC1\", \"ylab\": \"PC2\"}, \"topic.order\": [3, 1, 2]};\n",
       "\n",
       "function LDAvis_load_lib(url, callback){\n",
       "  var s = document.createElement('script');\n",
       "  s.src = url;\n",
       "  s.async = true;\n",
       "  s.onreadystatechange = s.onload = callback;\n",
       "  s.onerror = function(){console.warn(\"failed to load library \" + url);};\n",
       "  document.getElementsByTagName(\"head\")[0].appendChild(s);\n",
       "}\n",
       "\n",
       "if(typeof(LDAvis) !== \"undefined\"){\n",
       "   // already loaded: just create the visualization\n",
       "   !function(LDAvis){\n",
       "       new LDAvis(\"#\" + \"ldavis_el621403078109472801021350253\", ldavis_el621403078109472801021350253_data);\n",
       "   }(LDAvis);\n",
       "}else if(typeof define === \"function\" && define.amd){\n",
       "   // require.js is available: use it to load d3/LDAvis\n",
       "   require.config({paths: {d3: \"https://d3js.org/d3.v5\"}});\n",
       "   require([\"d3\"], function(d3){\n",
       "      window.d3 = d3;\n",
       "      LDAvis_load_lib(\"https://cdn.jsdelivr.net/gh/bmabey/pyLDAvis@3.3.1/pyLDAvis/js/ldavis.v3.0.0.js\", function(){\n",
       "        new LDAvis(\"#\" + \"ldavis_el621403078109472801021350253\", ldavis_el621403078109472801021350253_data);\n",
       "      });\n",
       "    });\n",
       "}else{\n",
       "    // require.js not available: dynamically load d3 & LDAvis\n",
       "    LDAvis_load_lib(\"https://d3js.org/d3.v5.js\", function(){\n",
       "         LDAvis_load_lib(\"https://cdn.jsdelivr.net/gh/bmabey/pyLDAvis@3.3.1/pyLDAvis/js/ldavis.v3.0.0.js\", function(){\n",
       "                 new LDAvis(\"#\" + \"ldavis_el621403078109472801021350253\", ldavis_el621403078109472801021350253_data);\n",
       "            })\n",
       "         });\n",
       "}\n",
       "</script>"
      ],
      "text/plain": [
       "<IPython.core.display.HTML object>"
      ]
     },
     "execution_count": 19,
     "metadata": {},
     "output_type": "execute_result"
    }
   ],
   "source": [
    "vis_data = gensimvis.prepare(lda, corpus, dictionary)\n",
    "\n",
    "pyLDAvis.display(vis_data)"
   ]
  },
  {
   "cell_type": "markdown",
   "metadata": {
    "id": "hTN9zV-eOxkm"
   },
   "source": [
    "**Произведем интерпретацию тем.**"
   ]
  },
  {
   "cell_type": "markdown",
   "metadata": {
    "id": "rlFI_kMoQMMr"
   },
   "source": [
    "Судя по полученным результатам, твиты можно распределить на три группы:\n",
    "\n",
    "1. обучение в школе;\n",
    "\n",
    "2. работа;\n",
    "\n",
    "3. положительные эмоции."
   ]
  }
 ],
 "metadata": {
  "colab": {
   "collapsed_sections": [],
   "provenance": []
  },
  "kernelspec": {
   "display_name": "Python 3",
   "language": "python",
   "name": "python3"
  },
  "language_info": {
   "codemirror_mode": {
    "name": "ipython",
    "version": 3
   },
   "file_extension": ".py",
   "mimetype": "text/x-python",
   "name": "python",
   "nbconvert_exporter": "python",
   "pygments_lexer": "ipython3",
   "version": "3.8.5"
  }
 },
 "nbformat": 4,
 "nbformat_minor": 1
}
